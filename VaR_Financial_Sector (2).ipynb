{
 "cells": [
  {
   "cell_type": "code",
   "execution_count": 64,
   "metadata": {},
   "outputs": [
    {
     "name": "stdout",
     "output_type": "stream",
     "text": [
      "1     -0.008636\n",
      "2     -0.005588\n",
      "3     -0.000178\n",
      "4     -0.003326\n",
      "5      0.009783\n",
      "         ...   \n",
      "248   -0.032210\n",
      "249   -0.003011\n",
      "250   -0.047456\n",
      "251   -0.015656\n",
      "252    0.045301\n",
      "Name: Weighted, Length: 252, dtype: float64\n",
      "The 99% historical VaR is: -9.204044592969312 %\n"
     ]
    },
    {
     "name": "stderr",
     "output_type": "stream",
     "text": [
      "/anaconda3/lib/python3.7/site-packages/ipykernel_launcher.py:30: SettingWithCopyWarning: \n",
      "A value is trying to be set on a copy of a slice from a DataFrame.\n",
      "Try using .loc[row_indexer,col_indexer] = value instead\n",
      "\n",
      "See the caveats in the documentation: https://pandas.pydata.org/pandas-docs/stable/user_guide/indexing.html#returning-a-view-versus-a-copy\n"
     ]
    }
   ],
   "source": [
    "#Cameron R. Shabahang\n",
    "#Risk Management\n",
    "\n",
    "import pandas as pd\n",
    "import numpy as np\n",
    "import scipy.stats as stat\n",
    "import matplotlib.pyplot as plt\n",
    "import math\n",
    "import scipy as sp\n",
    "from sklearn.decomposition import PCA\n",
    "\n",
    "#Choose 10 stocks and 1 year historical daily prices\n",
    "df1 = pd.read_csv('JPM.csv', dtype = object)\n",
    "df2 = pd.read_csv('GS.csv', dtype = object)\n",
    "df3 = pd.read_csv('MS.csv', dtype = object)\n",
    "df4 = pd.read_csv('C.csv', dtype = object)\n",
    "df5 = pd.read_csv('CS.csv', dtype = object)\n",
    "df6 = pd.read_csv('UBS.csv', dtype = object)\n",
    "df7 = pd.read_csv('JEF.csv', dtype = object)\n",
    "df8 = pd.read_csv('LAZ.csv', dtype = object)\n",
    "df9 = pd.read_csv('BCS.csv', dtype = object)\n",
    "df10 = pd.read_csv('EVR.csv', dtype = object)\n",
    "\n",
    "#Form a portfolio with chosen weights and shares\n",
    "def filter(df):\n",
    "    z = df[['Date','Adj Close']]\n",
    "    close = z['Adj Close'].astype(float)\n",
    "    dailyreturns = close.pct_change(1)\n",
    "    z.insert(2,\"Daily Return\",dailyreturns)\n",
    "    z['Daily Px Change'] = close - close.shift(1)\n",
    "    z = z.iloc[1:]\n",
    "    z['Weighted'] = z['Daily Return'].apply(lambda x: x*0.1)\n",
    "    return z\n",
    "\n",
    "df1, df2, df3, df4, df5, df6, df7, df8, df9, df10 = [filter(df) for df in (df1, df2, df3, df4, df5, df6, df7, df8, df9, df10)]\n",
    "portfolio_return = df1['Weighted']+df2['Weighted']+df3['Weighted']+df4['Weighted']+df5['Weighted']+ df6['Weighted']+df7['Weighted']+df8['Weighted']+df9['Weighted']+df10['Weighted']\n",
    "print(portfolio_return)\n",
    "\n",
    "#Calculate 99% historical VaR for the portfolio\n",
    "portfolioVaRobservation = round(0.01 * len(portfolio_return))\n",
    "portfoliohistoricalVaR = sorted(portfolio_return)[portfolioVaRobservation]*100\n",
    "print('The 99% historical VaR is:',portfoliohistoricalVaR,'%')\n",
    "\n"
   ]
  },
  {
   "cell_type": "code",
   "execution_count": null,
   "metadata": {},
   "outputs": [],
   "source": []
  },
  {
   "cell_type": "code",
   "execution_count": null,
   "metadata": {},
   "outputs": [],
   "source": []
  },
  {
   "cell_type": "code",
   "execution_count": 65,
   "metadata": {
    "scrolled": true
   },
   "outputs": [
    {
     "name": "stdout",
     "output_type": "stream",
     "text": [
      "     Daily Return  Daily Return  Daily Return  Daily Return  Daily Return  \\\n",
      "1       -0.007349     -0.009572     -0.014712     -0.009666     -0.011765   \n",
      "2        0.001234     -0.006362     -0.005468     -0.008325     -0.002976   \n",
      "3        0.001232     -0.002248      0.001269      0.001592     -0.010448   \n",
      "4       -0.001670     -0.017635      0.000634     -0.005347     -0.004525   \n",
      "5        0.000528      0.004288     -0.001900     -0.001453      0.008333   \n",
      "..            ...           ...           ...           ...           ...   \n",
      "248     -0.044473     -0.027570     -0.036514     -0.015398     -0.024803   \n",
      "249     -0.027396     -0.005302      0.007074     -0.026992      0.009249   \n",
      "250     -0.049319      0.001627     -0.036628     -0.056363     -0.073310   \n",
      "251     -0.038110     -0.008290     -0.001042     -0.054596     -0.032138   \n",
      "252      0.061834      0.008953      0.000261      0.083045      0.047893   \n",
      "\n",
      "     Daily Return  Daily Return  Daily Return  Daily Return  Daily Return  \n",
      "1       -0.005251     -0.004445     -0.006835     -0.012415     -0.004346  \n",
      "2        0.000000     -0.012897     -0.021969     -0.005714      0.006601  \n",
      "3       -0.012821      0.010050      0.007848     -0.012644      0.014386  \n",
      "4        0.006112      0.007960      0.009399     -0.009313     -0.018874  \n",
      "5        0.009871     -0.000494      0.077414     -0.028202      0.029440  \n",
      "..            ...           ...           ...           ...           ...  \n",
      "248     -0.033831     -0.043754     -0.037602     -0.032787     -0.025366  \n",
      "249      0.019567      0.008118      0.020890     -0.006356     -0.028959  \n",
      "250     -0.050505     -0.057833     -0.040546     -0.076759     -0.034919  \n",
      "251     -0.022340     -0.020202      0.030411     -0.006928     -0.003325  \n",
      "252      0.045702      0.035289      0.066692      0.045349      0.057997  \n",
      "\n",
      "[252 rows x 10 columns]\n",
      "The 95% parametric portfolio VaR is: 0.03569304577239632\n"
     ]
    }
   ],
   "source": [
    "#Calculate 99% parametric VaR for the portfolio\n",
    "def pVar(df1,df2,df3,df4,df5,df6,df7,df8,df9,df10):\n",
    "    weights = np.repeat(0.10, 252)\n",
    "    #df_wMu = 0.1*((np.mean(df1['Daily Return'])+np.mean(df2['Daily Return'])+np.mean(df3['Daily Return'])+np.mean(df4['Daily Return'])+ #Needs to take df1-df10\n",
    "                  #np.mean(df4['Daily Return'])+np.mean(df5['Daily Return'])+np.mean(df6['Daily Return'])+np.mean(df7['Daily Return'])+\n",
    "                  #np.mean(df8['Daily Return'])+np.mean(df9['Daily Return'])+np.mean(df10['Daily Return']))\n",
    "    frames = [df1,df2,df3,df4,df5,df6,df7,df8,df9,df10]\n",
    "    df_merge = pd.concat(frames, axis=1)\n",
    "    z=df_merge['Daily Return']\n",
    "    print(z)\n",
    "    covar = np.cov(df_merge['Daily Return'])\n",
    "    pvar = np.dot(weights.T,np.dot(covar,weights)) #Takes covariance of df1-df10\n",
    "    portfolioParametricVaR = 2.326*np.sqrt(pvar)\n",
    "    return portfolioParametricVaR\n",
    "print('The 95% parametric portfolio VaR is:', pVar(df1,df2,df3,df4,df5,df6,df7,df8,df9,df10))\n",
    "\n"
   ]
  },
  {
   "cell_type": "code",
   "execution_count": null,
   "metadata": {},
   "outputs": [],
   "source": []
  },
  {
   "cell_type": "code",
   "execution_count": null,
   "metadata": {},
   "outputs": [],
   "source": []
  },
  {
   "cell_type": "code",
   "execution_count": null,
   "metadata": {},
   "outputs": [],
   "source": []
  },
  {
   "cell_type": "code",
   "execution_count": null,
   "metadata": {},
   "outputs": [],
   "source": []
  },
  {
   "cell_type": "code",
   "execution_count": null,
   "metadata": {},
   "outputs": [],
   "source": []
  },
  {
   "cell_type": "code",
   "execution_count": null,
   "metadata": {},
   "outputs": [],
   "source": []
  },
  {
   "cell_type": "code",
   "execution_count": 63,
   "metadata": {},
   "outputs": [
    {
     "ename": "IndexError",
     "evalue": "index 250 is out of bounds for axis 0 with size 250",
     "output_type": "error",
     "traceback": [
      "\u001b[0;31m---------------------------------------------------------------------------\u001b[0m",
      "\u001b[0;31mIndexError\u001b[0m                                Traceback (most recent call last)",
      "\u001b[0;32m<ipython-input-63-25c9dde747fd>\u001b[0m in \u001b[0;36m<module>\u001b[0;34m\u001b[0m\n\u001b[1;32m     10\u001b[0m     \u001b[0mdecay_mean_shift_a\u001b[0m\u001b[0;34m[\u001b[0m\u001b[0mi\u001b[0m\u001b[0;34m]\u001b[0m \u001b[0;34m=\u001b[0m \u001b[0mnp\u001b[0m\u001b[0;34m.\u001b[0m\u001b[0mmean\u001b[0m\u001b[0;34m(\u001b[0m\u001b[0mrollingreturn_shift\u001b[0m\u001b[0;34m)\u001b[0m\u001b[0;34m\u001b[0m\u001b[0;34m\u001b[0m\u001b[0m\n\u001b[1;32m     11\u001b[0m     \u001b[0mdecay_mean_shift\u001b[0m \u001b[0;34m=\u001b[0m \u001b[0mdecay_mean_shift_a\u001b[0m\u001b[0;34m[\u001b[0m\u001b[0;36m2\u001b[0m\u001b[0;34m:\u001b[0m\u001b[0;34m]\u001b[0m\u001b[0;34m\u001b[0m\u001b[0;34m\u001b[0m\u001b[0m\n\u001b[0;32m---> 12\u001b[0;31m     \u001b[0mdecay_var\u001b[0m\u001b[0;34m[\u001b[0m\u001b[0mi\u001b[0m\u001b[0;34m]\u001b[0m \u001b[0;34m=\u001b[0m \u001b[0;36m0.95\u001b[0m\u001b[0;34m*\u001b[0m\u001b[0mdecay_var\u001b[0m\u001b[0;34m[\u001b[0m\u001b[0mi\u001b[0m\u001b[0;34m-\u001b[0m\u001b[0;36m1\u001b[0m\u001b[0;34m]\u001b[0m\u001b[0;34m+\u001b[0m\u001b[0;34m(\u001b[0m\u001b[0;36m1\u001b[0m\u001b[0;34m-\u001b[0m\u001b[0;36m0.95\u001b[0m\u001b[0;34m)\u001b[0m\u001b[0;34m*\u001b[0m\u001b[0;34m(\u001b[0m\u001b[0mdecay_mean_shift\u001b[0m\u001b[0;34m[\u001b[0m\u001b[0mi\u001b[0m\u001b[0;34m]\u001b[0m \u001b[0;34m-\u001b[0m \u001b[0mdecay_mean\u001b[0m\u001b[0;34m[\u001b[0m\u001b[0mi\u001b[0m\u001b[0;34m]\u001b[0m\u001b[0;34m)\u001b[0m\u001b[0;34m**\u001b[0m\u001b[0;36m2\u001b[0m\u001b[0;34m\u001b[0m\u001b[0;34m\u001b[0m\u001b[0m\n\u001b[0m\u001b[1;32m     13\u001b[0m \u001b[0mprint\u001b[0m\u001b[0;34m(\u001b[0m\u001b[0mdecay_mean\u001b[0m\u001b[0;34m)\u001b[0m\u001b[0;34m\u001b[0m\u001b[0;34m\u001b[0m\u001b[0m\n\u001b[1;32m     14\u001b[0m \u001b[0mprint\u001b[0m\u001b[0;34m(\u001b[0m\u001b[0mdecay_mean_shift\u001b[0m\u001b[0;34m)\u001b[0m\u001b[0;34m\u001b[0m\u001b[0;34m\u001b[0m\u001b[0m\n",
      "\u001b[0;31mIndexError\u001b[0m: index 250 is out of bounds for axis 0 with size 250"
     ]
    }
   ],
   "source": [
    "#Portfolio 0.95 decay SD for VaR\n",
    "\n",
    "decay_mean_shift_a = np.zeros(252)\n",
    "decay_mean = np.zeros(252)\n",
    "decay_var = np.zeros(252)\n",
    "for i in range (len(portfolio_return)):\n",
    "    rollingreturn_shift = portfolio_return[0:i-1]\n",
    "    rollingreturn = portfolio_return[0:i]\n",
    "    decay_mean[i] = np.mean(rollingreturn)\n",
    "    decay_mean_shift_a[i] = np.mean(rollingreturn_shift)\n",
    "    decay_mean_shift = decay_mean_shift_a[2:]\n",
    "    decay_var[i] = 0.95*decay_var[i-1]+(1-0.95)*(decay_mean_shift[i] - decay_mean[i])**2\n",
    "print(decay_mean)\n",
    "print(decay_mean_shift)\n",
    "print(decay_var)"
   ]
  },
  {
   "cell_type": "code",
   "execution_count": null,
   "metadata": {},
   "outputs": [],
   "source": []
  },
  {
   "cell_type": "code",
   "execution_count": null,
   "metadata": {},
   "outputs": [],
   "source": [
    "Calculate 99% Historical PnL VaR for the portfolio\n",
    "positionsize = 100000\n",
    "sharesize_c = positionsize/float(rawdata.iloc[0,5])\n",
    "sharesize_d = positionsize/float(rawdata2.iloc[0,5])\n",
    "historicalportfolioPnLVaR = sorted(finaldata['Daily Px Change'])[VaRobservation]*sharesize_d + sorted(finaldata2['Daily Px Change'])[VaRobservation]*sharesize_c\n",
    "print('The 95% historical portfolio PnL VaR is: $', historicalportfolioPnLVaR)\n",
    "\n",
    "#Calculate 95% Parametric PnL VaR for the portfolio\n",
    "#d_Mu = np.mean(finaldata['Daily Px Change'])\n",
    "#d_Sigma = np.std(finaldata['Daily Px Change'])\n",
    "#c_Mu = np.mean(finaldata2['Daily Px Change'])\n",
    "#c_Sigma = np.std(finaldata2['Daily Px Change'])\n",
    "#p_Mu = 0.5 * d_Mu + 0.5 * c_Mu\n",
    "#covar = np.cov(finaldata['Daily Px Change'],finaldata2['Daily Px Change'])[0,1]\n",
    "#p_Sigma = np.sqrt(((0.5*0.5)*(c_Sigma*c_Sigma))+2*(0.5*0.5)*covar*(c_Sigma*d_Sigma)+(0.5*0.5)*(d_Sigma*d_Sigma))\n",
    "# = (p_Mu - 1.645 * p_Sigma) * (sharesize_c + sharesize_d)\n",
    "#print('The 95% parametric portfolio PnL VaR is: $', parametricportfolioPnLVaR)"
   ]
  },
  {
   "cell_type": "code",
   "execution_count": null,
   "metadata": {},
   "outputs": [],
   "source": [
    "#Implement Factor Model VaR\n",
    "#Run principle component analysis and retrieve the first two factors\n",
    "#95% of the eigenvalues\n",
    "#Locate the 1% position \n",
    "\n",
    "pca = PCA(n_components=10)\n",
    "principalComponents = pca.fit_transform(x)\n",
    "principalDf = pd.z(data = principalComponents)\n",
    "principalDf\n",
    "\n"
   ]
  },
  {
   "cell_type": "code",
   "execution_count": null,
   "metadata": {},
   "outputs": [],
   "source": []
  },
  {
   "cell_type": "code",
   "execution_count": 116,
   "metadata": {},
   "outputs": [
    {
     "name": "stdout",
     "output_type": "stream",
     "text": [
      "     Daily Return  Daily Return  Daily Return  Daily Return  Daily Return  \\\n",
      "1       -0.007349     -0.009572     -0.014712     -0.009666     -0.011765   \n",
      "2        0.001234     -0.006362     -0.005468     -0.008325     -0.002976   \n",
      "3        0.001232     -0.002248      0.001269      0.001592     -0.010448   \n",
      "4       -0.001670     -0.017635      0.000634     -0.005347     -0.004525   \n",
      "5        0.000528      0.004288     -0.001900     -0.001453      0.008333   \n",
      "..            ...           ...           ...           ...           ...   \n",
      "248     -0.044473     -0.027570     -0.036514     -0.015398     -0.024803   \n",
      "249     -0.027396     -0.005302      0.007074     -0.026992      0.009249   \n",
      "250     -0.049319      0.001627     -0.036628     -0.056363     -0.073310   \n",
      "251     -0.038110     -0.008290     -0.001042     -0.054596     -0.032138   \n",
      "252      0.061834      0.008953      0.000261      0.083045      0.047893   \n",
      "\n",
      "     Daily Return  Daily Return  Daily Return  Daily Return  Daily Return  \n",
      "1       -0.005251     -0.004445     -0.006835     -0.012415     -0.004346  \n",
      "2        0.000000     -0.012897     -0.021969     -0.005714      0.006601  \n",
      "3       -0.012821      0.010050      0.007848     -0.012644      0.014386  \n",
      "4        0.006112      0.007960      0.009399     -0.009313     -0.018874  \n",
      "5        0.009871     -0.000494      0.077414     -0.028202      0.029440  \n",
      "..            ...           ...           ...           ...           ...  \n",
      "248     -0.033831     -0.043754     -0.037602     -0.032787     -0.025366  \n",
      "249      0.019567      0.008118      0.020890     -0.006356     -0.028959  \n",
      "250     -0.050505     -0.057833     -0.040546     -0.076759     -0.034919  \n",
      "251     -0.022340     -0.020202      0.030411     -0.006928     -0.003325  \n",
      "252      0.045702      0.035289      0.066692      0.045349      0.057997  \n",
      "\n",
      "[252 rows x 10 columns]\n",
      "0      0.149177\n",
      "1      0.136660\n",
      "2      0.073722\n",
      "3      0.071865\n",
      "4      0.066347\n",
      "         ...   \n",
      "247   -0.063938\n",
      "248   -0.092040\n",
      "249   -0.123174\n",
      "250   -0.138793\n",
      "251   -0.152321\n",
      "Name: Weighted, Length: 252, dtype: float64\n",
      "EVT list is:\n",
      " 0     0.149177\n",
      "1     0.136660\n",
      "2     0.073722\n",
      "3     0.071865\n",
      "4     0.066347\n",
      "5     0.045670\n",
      "6     0.045301\n",
      "7     0.045232\n",
      "8     0.041973\n",
      "9     0.040220\n",
      "10    0.038460\n",
      "11    0.031972\n",
      "12    0.031540\n",
      "13    0.029734\n",
      "14    0.029566\n",
      "15    0.026880\n",
      "16    0.025822\n",
      "17    0.025373\n",
      "Name: Weighted, dtype: float64\n",
      "The value of u is:  0.02524293219930866\n",
      "The value of nu is:  18\n"
     ]
    }
   ],
   "source": [
    "#HW2 EVT, EWMA(GARCH), and MC for Parametric Portfolio VaR\n",
    "#EVT in VaR\n",
    "#Find values for u and nu\n",
    "port_SD = pVar(df1,df2,df3,df4,df5,df6,df7,df8,df9,df10)/2.326\n",
    "u = 1.645*port_SD\n",
    "order = portfolio_return.sort_values(ascending=False)\n",
    "order = order.reset_index(drop=True)\n",
    "print(order)   \n",
    "i=0\n",
    "while(order[i]>u):\n",
    "    i=i+1\n",
    "evt = order[0:i]\n",
    "print('EVT list is:\\n', evt)\n",
    "n = len(portfolio_return)\n",
    "a = 0.05\n",
    "print('The value of u is: ', u)\n",
    "print('The value of nu is: ', i)\n",
    "\n"
   ]
  },
  {
   "cell_type": "code",
   "execution_count": null,
   "metadata": {},
   "outputs": [],
   "source": []
  },
  {
   "cell_type": "code",
   "execution_count": null,
   "metadata": {},
   "outputs": [],
   "source": []
  },
  {
   "cell_type": "code",
   "execution_count": null,
   "metadata": {},
   "outputs": [],
   "source": []
  },
  {
   "cell_type": "code",
   "execution_count": null,
   "metadata": {},
   "outputs": [],
   "source": []
  },
  {
   "cell_type": "code",
   "execution_count": null,
   "metadata": {},
   "outputs": [],
   "source": []
  },
  {
   "cell_type": "code",
   "execution_count": null,
   "metadata": {},
   "outputs": [],
   "source": []
  },
  {
   "cell_type": "code",
   "execution_count": null,
   "metadata": {},
   "outputs": [],
   "source": []
  },
  {
   "cell_type": "code",
   "execution_count": null,
   "metadata": {},
   "outputs": [],
   "source": []
  },
  {
   "cell_type": "code",
   "execution_count": null,
   "metadata": {},
   "outputs": [],
   "source": []
  },
  {
   "cell_type": "code",
   "execution_count": null,
   "metadata": {},
   "outputs": [],
   "source": []
  },
  {
   "cell_type": "code",
   "execution_count": null,
   "metadata": {},
   "outputs": [],
   "source": []
  },
  {
   "cell_type": "code",
   "execution_count": null,
   "metadata": {},
   "outputs": [],
   "source": []
  },
  {
   "cell_type": "code",
   "execution_count": null,
   "metadata": {},
   "outputs": [],
   "source": []
  },
  {
   "cell_type": "code",
   "execution_count": null,
   "metadata": {},
   "outputs": [],
   "source": []
  },
  {
   "cell_type": "code",
   "execution_count": null,
   "metadata": {},
   "outputs": [],
   "source": []
  },
  {
   "cell_type": "code",
   "execution_count": null,
   "metadata": {},
   "outputs": [],
   "source": []
  },
  {
   "cell_type": "code",
   "execution_count": null,
   "metadata": {},
   "outputs": [],
   "source": []
  },
  {
   "cell_type": "code",
   "execution_count": null,
   "metadata": {},
   "outputs": [],
   "source": []
  },
  {
   "cell_type": "code",
   "execution_count": null,
   "metadata": {},
   "outputs": [],
   "source": []
  },
  {
   "cell_type": "code",
   "execution_count": null,
   "metadata": {},
   "outputs": [],
   "source": []
  },
  {
   "cell_type": "code",
   "execution_count": null,
   "metadata": {},
   "outputs": [],
   "source": []
  },
  {
   "cell_type": "code",
   "execution_count": null,
   "metadata": {},
   "outputs": [],
   "source": []
  },
  {
   "cell_type": "code",
   "execution_count": null,
   "metadata": {},
   "outputs": [],
   "source": []
  },
  {
   "cell_type": "code",
   "execution_count": null,
   "metadata": {},
   "outputs": [],
   "source": []
  },
  {
   "cell_type": "code",
   "execution_count": null,
   "metadata": {},
   "outputs": [],
   "source": []
  },
  {
   "cell_type": "code",
   "execution_count": null,
   "metadata": {},
   "outputs": [],
   "source": []
  },
  {
   "cell_type": "code",
   "execution_count": null,
   "metadata": {},
   "outputs": [],
   "source": []
  },
  {
   "cell_type": "code",
   "execution_count": null,
   "metadata": {},
   "outputs": [],
   "source": []
  },
  {
   "cell_type": "code",
   "execution_count": null,
   "metadata": {},
   "outputs": [],
   "source": []
  },
  {
   "cell_type": "code",
   "execution_count": null,
   "metadata": {},
   "outputs": [],
   "source": []
  },
  {
   "cell_type": "code",
   "execution_count": null,
   "metadata": {},
   "outputs": [],
   "source": []
  },
  {
   "cell_type": "code",
   "execution_count": null,
   "metadata": {},
   "outputs": [],
   "source": []
  },
  {
   "cell_type": "code",
   "execution_count": null,
   "metadata": {},
   "outputs": [],
   "source": []
  },
  {
   "cell_type": "code",
   "execution_count": null,
   "metadata": {},
   "outputs": [],
   "source": []
  },
  {
   "cell_type": "code",
   "execution_count": null,
   "metadata": {},
   "outputs": [],
   "source": []
  },
  {
   "cell_type": "code",
   "execution_count": null,
   "metadata": {},
   "outputs": [],
   "source": []
  },
  {
   "cell_type": "code",
   "execution_count": null,
   "metadata": {},
   "outputs": [],
   "source": []
  },
  {
   "cell_type": "code",
   "execution_count": null,
   "metadata": {},
   "outputs": [],
   "source": []
  },
  {
   "cell_type": "code",
   "execution_count": null,
   "metadata": {},
   "outputs": [],
   "source": []
  },
  {
   "cell_type": "code",
   "execution_count": null,
   "metadata": {},
   "outputs": [],
   "source": []
  },
  {
   "cell_type": "code",
   "execution_count": null,
   "metadata": {},
   "outputs": [],
   "source": []
  },
  {
   "cell_type": "code",
   "execution_count": null,
   "metadata": {},
   "outputs": [],
   "source": []
  },
  {
   "cell_type": "code",
   "execution_count": null,
   "metadata": {},
   "outputs": [],
   "source": []
  },
  {
   "cell_type": "code",
   "execution_count": null,
   "metadata": {},
   "outputs": [],
   "source": []
  },
  {
   "cell_type": "code",
   "execution_count": null,
   "metadata": {},
   "outputs": [],
   "source": []
  },
  {
   "cell_type": "code",
   "execution_count": null,
   "metadata": {},
   "outputs": [],
   "source": []
  },
  {
   "cell_type": "code",
   "execution_count": null,
   "metadata": {},
   "outputs": [],
   "source": []
  },
  {
   "cell_type": "code",
   "execution_count": null,
   "metadata": {},
   "outputs": [],
   "source": []
  },
  {
   "cell_type": "code",
   "execution_count": null,
   "metadata": {},
   "outputs": [],
   "source": []
  },
  {
   "cell_type": "code",
   "execution_count": null,
   "metadata": {},
   "outputs": [],
   "source": []
  },
  {
   "cell_type": "code",
   "execution_count": null,
   "metadata": {},
   "outputs": [],
   "source": []
  },
  {
   "cell_type": "code",
   "execution_count": null,
   "metadata": {},
   "outputs": [],
   "source": []
  },
  {
   "cell_type": "code",
   "execution_count": null,
   "metadata": {},
   "outputs": [],
   "source": []
  },
  {
   "cell_type": "code",
   "execution_count": null,
   "metadata": {},
   "outputs": [],
   "source": []
  },
  {
   "cell_type": "code",
   "execution_count": null,
   "metadata": {},
   "outputs": [],
   "source": [
    "#Estimate xi and beta\n",
    "def est(xi, beta):\n",
    "  y=(1+(xi*(evt-u)/beta))^(-1/(xi-1))\n",
    "  return(-(1/beta)*sum(log(y)))\n",
    "estimate=mle(est,start=list(xi = 1.5, beta = 1.5))\n",
    "xi=as.double(estimate@coef[1]) \n",
    "beta=as.double(estimate@coef[2]) \n",
    "print(xi)\n",
    "print(beta)\n",
    "\n",
    "#Solve for u*\n",
    "ustar<-u+(beta/xi)*(((n/nu)*(a))^(-xi)-1)\n",
    "print(ustar)\n",
    "\n",
    "#Simulate 1 day distribution\n",
    "pca=princomp(returns)\n",
    "eigvals<-pca$sdev^2\n",
    "explained<-rep(0, length(eigvals))\n",
    "for(i in 1:length(eigvals))\n",
    "  explained[i]=eigvals[i]/sum(eigvals)\n",
    "\n",
    "#95% test\n",
    "nfacs95=0\n",
    "esum95=0\n",
    "while(esum95<0.95):\n",
    "  esum95=esum95+explained[nfacs95+1]\n",
    "  nfacs95=nfacs95+1\n",
    "\n",
    "#6 factors required for 95%\n",
    "varcov<-cov(pca$loadings)\n",
    "facmean<-mean(pca$loadings)\n",
    "\n",
    "#2 Days of Prices with EWMA\n",
    "#window = 60 or 3 months\n",
    "lambda=0.97\n",
    "n=2\n",
    "set.seed(-1000)\n",
    "errors=rnorm(1000, 0, 1)\n",
    "rets=rep(0, n+1)\n",
    "prices=rep(0, n+1)\n",
    "sigsq=rep(0, n+1)\n",
    "eps=rep(0, n+1)\n",
    "rets[1]=mean(portRet) #set to simulated mean\n",
    "prices[1]=1000000\n",
    "sigsq[1]=sd(portRet)^2 #set to simulated vol\n",
    "eps[1]=sqrt(sigsq)*errors[1]\n",
    "for(i in range 2:(n+1)):\n",
    "  sigsq[i]=lambda*sigsq[i-1]^2+(1-lambda)*rets[i-1]^2\n",
    "  eps[i]=np.sqrt(sigsq[i])*errors[i]\n",
    "  rets[i]=eps[i]+lambda*rets[i-1]+(1-lambda)*eps[i-1]\n",
    "  prices[i]=(1+rets[i])*prices[i-1])"
   ]
  },
  {
   "cell_type": "code",
   "execution_count": null,
   "metadata": {},
   "outputs": [],
   "source": []
  },
  {
   "cell_type": "code",
   "execution_count": null,
   "metadata": {},
   "outputs": [],
   "source": []
  },
  {
   "cell_type": "code",
   "execution_count": null,
   "metadata": {},
   "outputs": [],
   "source": []
  },
  {
   "cell_type": "code",
   "execution_count": null,
   "metadata": {},
   "outputs": [],
   "source": []
  },
  {
   "cell_type": "code",
   "execution_count": null,
   "metadata": {},
   "outputs": [],
   "source": []
  },
  {
   "cell_type": "code",
   "execution_count": null,
   "metadata": {},
   "outputs": [],
   "source": []
  },
  {
   "cell_type": "code",
   "execution_count": null,
   "metadata": {},
   "outputs": [],
   "source": []
  },
  {
   "cell_type": "code",
   "execution_count": null,
   "metadata": {},
   "outputs": [],
   "source": []
  },
  {
   "cell_type": "code",
   "execution_count": null,
   "metadata": {},
   "outputs": [],
   "source": []
  },
  {
   "cell_type": "code",
   "execution_count": null,
   "metadata": {},
   "outputs": [],
   "source": []
  },
  {
   "cell_type": "code",
   "execution_count": null,
   "metadata": {},
   "outputs": [],
   "source": []
  },
  {
   "cell_type": "code",
   "execution_count": null,
   "metadata": {},
   "outputs": [],
   "source": []
  },
  {
   "cell_type": "code",
   "execution_count": null,
   "metadata": {},
   "outputs": [],
   "source": []
  },
  {
   "cell_type": "code",
   "execution_count": null,
   "metadata": {},
   "outputs": [],
   "source": []
  },
  {
   "cell_type": "code",
   "execution_count": null,
   "metadata": {},
   "outputs": [],
   "source": []
  },
  {
   "cell_type": "code",
   "execution_count": null,
   "metadata": {},
   "outputs": [],
   "source": []
  },
  {
   "cell_type": "code",
   "execution_count": null,
   "metadata": {},
   "outputs": [],
   "source": []
  },
  {
   "cell_type": "code",
   "execution_count": null,
   "metadata": {},
   "outputs": [],
   "source": []
  },
  {
   "cell_type": "code",
   "execution_count": null,
   "metadata": {},
   "outputs": [],
   "source": []
  },
  {
   "cell_type": "code",
   "execution_count": null,
   "metadata": {},
   "outputs": [],
   "source": []
  },
  {
   "cell_type": "code",
   "execution_count": null,
   "metadata": {},
   "outputs": [],
   "source": []
  },
  {
   "cell_type": "code",
   "execution_count": null,
   "metadata": {},
   "outputs": [],
   "source": []
  },
  {
   "cell_type": "code",
   "execution_count": null,
   "metadata": {},
   "outputs": [],
   "source": []
  },
  {
   "cell_type": "code",
   "execution_count": null,
   "metadata": {},
   "outputs": [],
   "source": []
  },
  {
   "cell_type": "code",
   "execution_count": null,
   "metadata": {},
   "outputs": [],
   "source": []
  },
  {
   "cell_type": "code",
   "execution_count": null,
   "metadata": {},
   "outputs": [],
   "source": []
  },
  {
   "cell_type": "code",
   "execution_count": null,
   "metadata": {},
   "outputs": [],
   "source": []
  },
  {
   "cell_type": "code",
   "execution_count": null,
   "metadata": {},
   "outputs": [],
   "source": []
  },
  {
   "cell_type": "code",
   "execution_count": null,
   "metadata": {},
   "outputs": [],
   "source": []
  },
  {
   "cell_type": "code",
   "execution_count": null,
   "metadata": {},
   "outputs": [],
   "source": []
  },
  {
   "cell_type": "code",
   "execution_count": null,
   "metadata": {},
   "outputs": [],
   "source": []
  },
  {
   "cell_type": "code",
   "execution_count": null,
   "metadata": {},
   "outputs": [],
   "source": []
  },
  {
   "cell_type": "code",
   "execution_count": null,
   "metadata": {},
   "outputs": [],
   "source": []
  },
  {
   "cell_type": "code",
   "execution_count": null,
   "metadata": {},
   "outputs": [],
   "source": []
  },
  {
   "cell_type": "code",
   "execution_count": null,
   "metadata": {},
   "outputs": [],
   "source": []
  },
  {
   "cell_type": "code",
   "execution_count": null,
   "metadata": {},
   "outputs": [],
   "source": []
  },
  {
   "cell_type": "code",
   "execution_count": null,
   "metadata": {},
   "outputs": [],
   "source": []
  },
  {
   "cell_type": "code",
   "execution_count": null,
   "metadata": {},
   "outputs": [],
   "source": []
  },
  {
   "cell_type": "code",
   "execution_count": null,
   "metadata": {},
   "outputs": [],
   "source": []
  },
  {
   "cell_type": "code",
   "execution_count": null,
   "metadata": {},
   "outputs": [],
   "source": []
  },
  {
   "cell_type": "code",
   "execution_count": null,
   "metadata": {},
   "outputs": [],
   "source": []
  },
  {
   "cell_type": "code",
   "execution_count": null,
   "metadata": {},
   "outputs": [],
   "source": []
  },
  {
   "cell_type": "code",
   "execution_count": null,
   "metadata": {},
   "outputs": [],
   "source": []
  },
  {
   "cell_type": "code",
   "execution_count": null,
   "metadata": {},
   "outputs": [],
   "source": []
  },
  {
   "cell_type": "code",
   "execution_count": null,
   "metadata": {},
   "outputs": [],
   "source": []
  },
  {
   "cell_type": "code",
   "execution_count": null,
   "metadata": {},
   "outputs": [],
   "source": []
  },
  {
   "cell_type": "code",
   "execution_count": null,
   "metadata": {},
   "outputs": [],
   "source": []
  },
  {
   "cell_type": "code",
   "execution_count": null,
   "metadata": {},
   "outputs": [],
   "source": []
  },
  {
   "cell_type": "code",
   "execution_count": null,
   "metadata": {},
   "outputs": [],
   "source": []
  },
  {
   "cell_type": "code",
   "execution_count": null,
   "metadata": {},
   "outputs": [],
   "source": []
  },
  {
   "cell_type": "code",
   "execution_count": null,
   "metadata": {},
   "outputs": [],
   "source": []
  },
  {
   "cell_type": "code",
   "execution_count": null,
   "metadata": {},
   "outputs": [],
   "source": []
  },
  {
   "cell_type": "code",
   "execution_count": null,
   "metadata": {},
   "outputs": [],
   "source": []
  },
  {
   "cell_type": "code",
   "execution_count": null,
   "metadata": {},
   "outputs": [],
   "source": []
  },
  {
   "cell_type": "code",
   "execution_count": null,
   "metadata": {},
   "outputs": [],
   "source": []
  },
  {
   "cell_type": "code",
   "execution_count": null,
   "metadata": {},
   "outputs": [],
   "source": []
  },
  {
   "cell_type": "code",
   "execution_count": null,
   "metadata": {},
   "outputs": [],
   "source": []
  },
  {
   "cell_type": "code",
   "execution_count": null,
   "metadata": {},
   "outputs": [],
   "source": []
  },
  {
   "cell_type": "code",
   "execution_count": null,
   "metadata": {},
   "outputs": [],
   "source": []
  },
  {
   "cell_type": "code",
   "execution_count": null,
   "metadata": {},
   "outputs": [],
   "source": []
  },
  {
   "cell_type": "code",
   "execution_count": null,
   "metadata": {},
   "outputs": [],
   "source": []
  },
  {
   "cell_type": "code",
   "execution_count": null,
   "metadata": {},
   "outputs": [],
   "source": []
  },
  {
   "cell_type": "code",
   "execution_count": null,
   "metadata": {},
   "outputs": [],
   "source": []
  },
  {
   "cell_type": "code",
   "execution_count": null,
   "metadata": {},
   "outputs": [],
   "source": []
  },
  {
   "cell_type": "code",
   "execution_count": null,
   "metadata": {},
   "outputs": [],
   "source": []
  },
  {
   "cell_type": "code",
   "execution_count": null,
   "metadata": {},
   "outputs": [],
   "source": []
  },
  {
   "cell_type": "code",
   "execution_count": null,
   "metadata": {},
   "outputs": [],
   "source": []
  },
  {
   "cell_type": "code",
   "execution_count": null,
   "metadata": {},
   "outputs": [],
   "source": []
  },
  {
   "cell_type": "code",
   "execution_count": null,
   "metadata": {},
   "outputs": [],
   "source": []
  },
  {
   "cell_type": "code",
   "execution_count": null,
   "metadata": {},
   "outputs": [],
   "source": []
  },
  {
   "cell_type": "code",
   "execution_count": null,
   "metadata": {},
   "outputs": [],
   "source": []
  },
  {
   "cell_type": "code",
   "execution_count": null,
   "metadata": {},
   "outputs": [],
   "source": []
  },
  {
   "cell_type": "code",
   "execution_count": null,
   "metadata": {},
   "outputs": [],
   "source": []
  },
  {
   "cell_type": "code",
   "execution_count": null,
   "metadata": {},
   "outputs": [],
   "source": []
  },
  {
   "cell_type": "code",
   "execution_count": null,
   "metadata": {},
   "outputs": [],
   "source": []
  },
  {
   "cell_type": "code",
   "execution_count": null,
   "metadata": {},
   "outputs": [],
   "source": []
  },
  {
   "cell_type": "code",
   "execution_count": null,
   "metadata": {},
   "outputs": [],
   "source": []
  },
  {
   "cell_type": "code",
   "execution_count": null,
   "metadata": {},
   "outputs": [],
   "source": []
  },
  {
   "cell_type": "code",
   "execution_count": null,
   "metadata": {},
   "outputs": [],
   "source": []
  },
  {
   "cell_type": "code",
   "execution_count": null,
   "metadata": {},
   "outputs": [],
   "source": []
  },
  {
   "cell_type": "code",
   "execution_count": null,
   "metadata": {},
   "outputs": [],
   "source": []
  },
  {
   "cell_type": "code",
   "execution_count": null,
   "metadata": {},
   "outputs": [],
   "source": []
  },
  {
   "cell_type": "code",
   "execution_count": null,
   "metadata": {},
   "outputs": [],
   "source": []
  },
  {
   "cell_type": "code",
   "execution_count": null,
   "metadata": {},
   "outputs": [],
   "source": []
  },
  {
   "cell_type": "code",
   "execution_count": null,
   "metadata": {},
   "outputs": [],
   "source": []
  },
  {
   "cell_type": "code",
   "execution_count": null,
   "metadata": {},
   "outputs": [],
   "source": []
  },
  {
   "cell_type": "code",
   "execution_count": null,
   "metadata": {},
   "outputs": [],
   "source": []
  },
  {
   "cell_type": "code",
   "execution_count": null,
   "metadata": {},
   "outputs": [],
   "source": []
  },
  {
   "cell_type": "code",
   "execution_count": null,
   "metadata": {},
   "outputs": [],
   "source": []
  },
  {
   "cell_type": "code",
   "execution_count": null,
   "metadata": {},
   "outputs": [],
   "source": []
  },
  {
   "cell_type": "code",
   "execution_count": null,
   "metadata": {},
   "outputs": [],
   "source": []
  },
  {
   "cell_type": "code",
   "execution_count": null,
   "metadata": {},
   "outputs": [],
   "source": []
  },
  {
   "cell_type": "code",
   "execution_count": null,
   "metadata": {},
   "outputs": [],
   "source": []
  },
  {
   "cell_type": "code",
   "execution_count": null,
   "metadata": {},
   "outputs": [],
   "source": []
  },
  {
   "cell_type": "code",
   "execution_count": null,
   "metadata": {},
   "outputs": [],
   "source": []
  },
  {
   "cell_type": "code",
   "execution_count": null,
   "metadata": {},
   "outputs": [],
   "source": []
  },
  {
   "cell_type": "code",
   "execution_count": null,
   "metadata": {},
   "outputs": [],
   "source": []
  },
  {
   "cell_type": "code",
   "execution_count": null,
   "metadata": {},
   "outputs": [],
   "source": []
  },
  {
   "cell_type": "code",
   "execution_count": null,
   "metadata": {},
   "outputs": [],
   "source": []
  },
  {
   "cell_type": "code",
   "execution_count": null,
   "metadata": {},
   "outputs": [],
   "source": []
  },
  {
   "cell_type": "code",
   "execution_count": null,
   "metadata": {},
   "outputs": [],
   "source": []
  },
  {
   "cell_type": "code",
   "execution_count": null,
   "metadata": {},
   "outputs": [],
   "source": []
  }
 ],
 "metadata": {
  "kernelspec": {
   "display_name": "Python 3",
   "language": "python",
   "name": "python3"
  },
  "language_info": {
   "codemirror_mode": {
    "name": "ipython",
    "version": 3
   },
   "file_extension": ".py",
   "mimetype": "text/x-python",
   "name": "python",
   "nbconvert_exporter": "python",
   "pygments_lexer": "ipython3",
   "version": "3.7.1"
  }
 },
 "nbformat": 4,
 "nbformat_minor": 2
}
