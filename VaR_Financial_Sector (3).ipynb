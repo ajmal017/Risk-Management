{
 "cells": [
  {
   "cell_type": "code",
   "execution_count": 64,
   "metadata": {},
   "outputs": [
    {
     "name": "stdout",
     "output_type": "stream",
     "text": [
      "1     -0.008636\n",
      "2     -0.005588\n",
      "3     -0.000178\n",
      "4     -0.003326\n",
      "5      0.009783\n",
      "         ...   \n",
      "248   -0.032210\n",
      "249   -0.003011\n",
      "250   -0.047456\n",
      "251   -0.015656\n",
      "252    0.045301\n",
      "Name: Weighted, Length: 252, dtype: float64\n",
      "The 99% historical VaR is: -9.204044592969312 %\n"
     ]
    },
    {
     "name": "stderr",
     "output_type": "stream",
     "text": [
      "/anaconda3/lib/python3.7/site-packages/ipykernel_launcher.py:30: SettingWithCopyWarning: \n",
      "A value is trying to be set on a copy of a slice from a DataFrame.\n",
      "Try using .loc[row_indexer,col_indexer] = value instead\n",
      "\n",
      "See the caveats in the documentation: https://pandas.pydata.org/pandas-docs/stable/user_guide/indexing.html#returning-a-view-versus-a-copy\n"
     ]
    }
   ],
   "source": [
    "#Cameron R. Shabahang\n",
    "#Risk Management\n",
    "\n",
    "import pandas as pd\n",
    "import numpy as np\n",
    "import scipy.stats as stat\n",
    "import matplotlib.pyplot as plt\n",
    "import math\n",
    "import scipy as sp\n",
    "from sklearn.decomposition import PCA\n",
    "\n",
    "#Choose 10 stocks and 1 year historical daily prices\n",
    "df1 = pd.read_csv('JPM.csv', dtype = object)\n",
    "df2 = pd.read_csv('GS.csv', dtype = object)\n",
    "df3 = pd.read_csv('MS.csv', dtype = object)\n",
    "df4 = pd.read_csv('C.csv', dtype = object)\n",
    "df5 = pd.read_csv('CS.csv', dtype = object)\n",
    "df6 = pd.read_csv('UBS.csv', dtype = object)\n",
    "df7 = pd.read_csv('JEF.csv', dtype = object)\n",
    "df8 = pd.read_csv('LAZ.csv', dtype = object)\n",
    "df9 = pd.read_csv('BCS.csv', dtype = object)\n",
    "df10 = pd.read_csv('EVR.csv', dtype = object)\n",
    "\n",
    "#Form a portfolio with chosen weights and shares\n",
    "def filter(df):\n",
    "    z = df[['Date','Adj Close']]\n",
    "    close = z['Adj Close'].astype(float)\n",
    "    dailyreturns = close.pct_change(1)\n",
    "    z.insert(2,\"Daily Return\",dailyreturns)\n",
    "    z['Daily Px Change'] = close - close.shift(1)\n",
    "    z = z.iloc[1:]\n",
    "    z['Weighted'] = z['Daily Return'].apply(lambda x: x*0.1)\n",
    "    return z\n",
    "\n",
    "df1, df2, df3, df4, df5, df6, df7, df8, df9, df10 = [filter(df) for df in (df1, df2, df3, df4, df5, df6, df7, df8, df9, df10)]\n",
    "portfolio_return = df1['Weighted']+df2['Weighted']+df3['Weighted']+df4['Weighted']+df5['Weighted']+ df6['Weighted']+df7['Weighted']+df8['Weighted']+df9['Weighted']+df10['Weighted']\n",
    "print(portfolio_return)\n",
    "\n",
    "#Calculate 99% historical VaR for the portfolio\n",
    "portfolioVaRobservation = round(0.01 * len(portfolio_return))\n",
    "portfoliohistoricalVaR = sorted(portfolio_return)[portfolioVaRobservation]*100\n",
    "print('The 99% historical VaR is:',portfoliohistoricalVaR,'%')\n",
    "\n"
   ]
  },
  {
   "cell_type": "code",
   "execution_count": null,
   "metadata": {},
   "outputs": [],
   "source": []
  },
  {
   "cell_type": "code",
   "execution_count": null,
   "metadata": {},
   "outputs": [],
   "source": []
  },
  {
   "cell_type": "code",
   "execution_count": 65,
   "metadata": {
    "scrolled": true
   },
   "outputs": [
    {
     "name": "stdout",
     "output_type": "stream",
     "text": [
      "     Daily Return  Daily Return  Daily Return  Daily Return  Daily Return  \\\n",
      "1       -0.007349     -0.009572     -0.014712     -0.009666     -0.011765   \n",
      "2        0.001234     -0.006362     -0.005468     -0.008325     -0.002976   \n",
      "3        0.001232     -0.002248      0.001269      0.001592     -0.010448   \n",
      "4       -0.001670     -0.017635      0.000634     -0.005347     -0.004525   \n",
      "5        0.000528      0.004288     -0.001900     -0.001453      0.008333   \n",
      "..            ...           ...           ...           ...           ...   \n",
      "248     -0.044473     -0.027570     -0.036514     -0.015398     -0.024803   \n",
      "249     -0.027396     -0.005302      0.007074     -0.026992      0.009249   \n",
      "250     -0.049319      0.001627     -0.036628     -0.056363     -0.073310   \n",
      "251     -0.038110     -0.008290     -0.001042     -0.054596     -0.032138   \n",
      "252      0.061834      0.008953      0.000261      0.083045      0.047893   \n",
      "\n",
      "     Daily Return  Daily Return  Daily Return  Daily Return  Daily Return  \n",
      "1       -0.005251     -0.004445     -0.006835     -0.012415     -0.004346  \n",
      "2        0.000000     -0.012897     -0.021969     -0.005714      0.006601  \n",
      "3       -0.012821      0.010050      0.007848     -0.012644      0.014386  \n",
      "4        0.006112      0.007960      0.009399     -0.009313     -0.018874  \n",
      "5        0.009871     -0.000494      0.077414     -0.028202      0.029440  \n",
      "..            ...           ...           ...           ...           ...  \n",
      "248     -0.033831     -0.043754     -0.037602     -0.032787     -0.025366  \n",
      "249      0.019567      0.008118      0.020890     -0.006356     -0.028959  \n",
      "250     -0.050505     -0.057833     -0.040546     -0.076759     -0.034919  \n",
      "251     -0.022340     -0.020202      0.030411     -0.006928     -0.003325  \n",
      "252      0.045702      0.035289      0.066692      0.045349      0.057997  \n",
      "\n",
      "[252 rows x 10 columns]\n",
      "The 95% parametric portfolio VaR is: 0.03569304577239632\n"
     ]
    }
   ],
   "source": [
    "#Calculate 99% parametric VaR for the portfolio\n",
    "def pVar(df1,df2,df3,df4,df5,df6,df7,df8,df9,df10):\n",
    "    weights = np.repeat(0.10, 252)\n",
    "    #df_wMu = 0.1*((np.mean(df1['Daily Return'])+np.mean(df2['Daily Return'])+np.mean(df3['Daily Return'])+np.mean(df4['Daily Return'])+ #Needs to take df1-df10\n",
    "                  #np.mean(df4['Daily Return'])+np.mean(df5['Daily Return'])+np.mean(df6['Daily Return'])+np.mean(df7['Daily Return'])+\n",
    "                  #np.mean(df8['Daily Return'])+np.mean(df9['Daily Return'])+np.mean(df10['Daily Return']))\n",
    "    frames = [df1,df2,df3,df4,df5,df6,df7,df8,df9,df10]\n",
    "    df_merge = pd.concat(frames, axis=1)\n",
    "    z=df_merge['Daily Return']\n",
    "    print(z)\n",
    "    covar = np.cov(df_merge['Daily Return'])\n",
    "    pvar = np.dot(weights.T,np.dot(covar,weights)) #Takes covariance of df1-df10\n",
    "    portfolioParametricVaR = 2.326*np.sqrt(pvar)\n",
    "    return portfolioParametricVaR\n",
    "print('The 95% parametric portfolio VaR is:', pVar(df1,df2,df3,df4,df5,df6,df7,df8,df9,df10))\n",
    "\n"
   ]
  },
  {
   "cell_type": "code",
   "execution_count": null,
   "metadata": {},
   "outputs": [],
   "source": []
  },
  {
   "cell_type": "code",
   "execution_count": null,
   "metadata": {},
   "outputs": [],
   "source": []
  },
  {
   "cell_type": "code",
   "execution_count": null,
   "metadata": {},
   "outputs": [],
   "source": []
  },
  {
   "cell_type": "code",
   "execution_count": null,
   "metadata": {},
   "outputs": [],
   "source": []
  },
  {
   "cell_type": "code",
   "execution_count": null,
   "metadata": {},
   "outputs": [],
   "source": []
  },
  {
   "cell_type": "code",
   "execution_count": null,
   "metadata": {},
   "outputs": [],
   "source": []
  },
  {
   "cell_type": "code",
   "execution_count": 176,
   "metadata": {},
   "outputs": [
    {
     "name": "stdout",
     "output_type": "stream",
     "text": [
      "252\n",
      "252\n",
      "252\n",
      "[            nan -8.63565550e-03 -7.11162609e-03 -4.80050604e-03\n",
      " -4.43189020e-03 -1.58896858e-03 -7.38366643e-04  1.15996972e-03\n",
      "  5.74284288e-04 -6.84451965e-04 -3.95693855e-04  3.28241220e-04\n",
      " -5.49790566e-04 -2.25743266e-03 -2.26036444e-03 -2.41580086e-03\n",
      " -2.19205295e-03 -4.61252079e-03 -3.92024585e-03 -3.91099293e-03\n",
      " -3.24554229e-03 -3.76976655e-03 -3.63280664e-03 -3.06710888e-03\n",
      " -3.62418881e-03 -4.23840590e-03 -3.71503475e-03 -4.12843783e-03\n",
      " -4.03362478e-03 -4.13943622e-03 -4.64951880e-03 -4.18233096e-03\n",
      " -2.79476293e-03 -2.79275565e-03 -2.54524345e-03 -2.52886283e-03\n",
      " -2.17777412e-03 -1.94653272e-03 -2.36754082e-03 -2.24288111e-03\n",
      " -2.29886866e-03 -2.40907802e-03 -1.92917199e-03 -1.85823572e-03\n",
      " -1.65636742e-03 -1.62970639e-03 -1.72756313e-03 -1.88533710e-03\n",
      " -1.65879577e-03 -1.40022961e-03 -1.15520853e-03 -9.32944126e-04\n",
      " -9.55444350e-04 -7.47905717e-04 -5.55249420e-04 -7.32903260e-04\n",
      " -6.63527584e-04 -6.86962044e-04 -5.01885666e-04 -3.04170033e-04\n",
      " -4.17587078e-04 -3.27868311e-04 -4.96919904e-04 -3.59162033e-04\n",
      " -4.61438037e-04 -4.23017944e-04 -1.96626055e-04 -5.22610014e-05\n",
      " -2.43545032e-04 -1.71969132e-04 -2.97769707e-04 -3.21374601e-04\n",
      " -3.78493385e-04 -8.42214977e-04 -9.16453134e-04 -1.37512529e-03\n",
      " -1.14149068e-03 -1.28098053e-03 -1.08493254e-03 -1.18199814e-03\n",
      " -1.51408680e-03 -1.34504777e-03 -1.79582130e-03 -1.75851392e-03\n",
      " -1.44611856e-03 -1.27893396e-03 -1.39039814e-03 -1.32816848e-03\n",
      " -1.20698403e-03 -1.48357565e-03 -1.34651055e-03 -1.44574947e-03\n",
      " -1.35195961e-03 -1.12178599e-03 -1.06916530e-03 -1.20741943e-03\n",
      " -1.05437047e-03 -7.85976698e-04 -7.76191899e-04 -4.96835980e-04\n",
      " -2.86826399e-04 -2.24661415e-04 -1.85343645e-04 -4.23301989e-05\n",
      " -1.43474541e-04 -2.32312809e-04 -2.28584671e-04 -2.53655424e-04\n",
      " -2.88565174e-04 -3.14419087e-04 -4.88624881e-04 -4.18767169e-04\n",
      " -4.84813820e-04 -4.90855583e-04 -4.47842833e-04 -6.26706231e-04\n",
      " -8.08716420e-04 -8.09813487e-04 -6.95420803e-04 -7.60209107e-04\n",
      " -8.68178737e-04 -8.05565534e-04 -6.46430931e-04 -3.99433467e-04\n",
      " -3.94751833e-04 -2.28338977e-04 -2.51710179e-04 -2.22789674e-04\n",
      " -1.93307288e-04 -5.73202968e-05 -4.36260157e-05 -3.48601417e-05\n",
      " -4.64490562e-05  2.44317335e-05  1.08439888e-04  1.24295456e-04\n",
      "  6.09190956e-05 -3.42692528e-05  1.03258744e-04  2.45049402e-04\n",
      "  2.66690606e-04  2.32933110e-04  3.08141800e-04  2.90326237e-04\n",
      "  2.82554017e-04  2.59701688e-04  1.67180983e-04  1.82002031e-04\n",
      "  2.16244177e-04  2.43711103e-04  2.71384241e-04  2.34212277e-04\n",
      "  2.40579632e-04  3.05956978e-04  3.84596080e-04  3.60819669e-04\n",
      "  3.86226930e-04  3.28735268e-04  2.91737565e-04  1.80821434e-04\n",
      "  2.45979753e-04  2.72987663e-04  3.64956940e-04  3.23177842e-04\n",
      "  3.03043244e-04  2.81847174e-04  4.29167301e-04  4.50835691e-04\n",
      "  5.13600888e-04  5.32289665e-04  5.01942789e-04  4.78331692e-04\n",
      "  4.49004346e-04  4.49789352e-04  4.59006946e-04  4.95032578e-04\n",
      "  4.82767543e-04  4.77543449e-04  4.95008047e-04  5.99565049e-04\n",
      "  5.01779909e-04  5.06462700e-04  5.10132909e-04  5.70562035e-04\n",
      "  6.21915583e-04  5.76152843e-04  6.27255848e-04  6.47376293e-04\n",
      "  6.09557507e-04  7.00797980e-04  6.94034871e-04  6.01309218e-04\n",
      "  6.18699372e-04  5.76676460e-04  5.03124396e-04  4.03081040e-04\n",
      "  4.46578718e-04  4.97975853e-04  5.25471516e-04  3.96045165e-04\n",
      "  4.01525632e-04  4.81741717e-04  5.91200258e-04  6.13563218e-04\n",
      "  5.86515206e-04  5.97302879e-04  6.23559695e-04  6.59998753e-04\n",
      "  6.28684540e-04  6.11068022e-04  5.84690810e-04  6.24328149e-04\n",
      "  6.03319678e-04  5.26369441e-04  3.12303385e-04  1.43374521e-04\n",
      "  7.74335863e-05 -1.13794180e-04 -2.11069779e-04 -6.41132096e-05\n",
      " -2.38565791e-04 -1.22675454e-04 -3.70360550e-04 -4.79516676e-04\n",
      " -1.02726177e-03 -7.27820139e-04 -1.00750971e-03 -1.61449311e-03\n",
      " -1.00802706e-03 -1.66878305e-03 -1.49430965e-03 -1.88628427e-03\n",
      " -1.68318914e-03 -1.91247295e-03 -2.07050375e-03 -1.42689932e-03\n",
      " -1.28720976e-03 -9.78550194e-04 -1.17801410e-03 -1.16998345e-03\n",
      " -1.27725509e-03 -1.53161654e-03 -1.41858543e-03 -1.49930079e-03\n",
      " -1.19101644e-03 -1.06547820e-03 -8.75497692e-04 -7.02020007e-04\n",
      " -8.29067293e-04 -8.37828857e-04 -1.02429963e-03 -1.08259401e-03]\n",
      "[-8.63565550e-03 -7.11162609e-03 -4.80050604e-03 -4.43189020e-03\n",
      " -1.58896858e-03 -7.38366643e-04  1.15996972e-03  5.74284288e-04\n",
      " -6.84451965e-04 -3.95693855e-04  3.28241220e-04 -5.49790566e-04\n",
      " -2.25743266e-03 -2.26036444e-03 -2.41580086e-03 -2.19205295e-03\n",
      " -4.61252079e-03 -3.92024585e-03 -3.91099293e-03 -3.24554229e-03\n",
      " -3.76976655e-03 -3.63280664e-03 -3.06710888e-03 -3.62418881e-03\n",
      " -4.23840590e-03 -3.71503475e-03 -4.12843783e-03 -4.03362478e-03\n",
      " -4.13943622e-03 -4.64951880e-03 -4.18233096e-03 -2.79476293e-03\n",
      " -2.79275565e-03 -2.54524345e-03 -2.52886283e-03 -2.17777412e-03\n",
      " -1.94653272e-03 -2.36754082e-03 -2.24288111e-03 -2.29886866e-03\n",
      " -2.40907802e-03 -1.92917199e-03 -1.85823572e-03 -1.65636742e-03\n",
      " -1.62970639e-03 -1.72756313e-03 -1.88533710e-03 -1.65879577e-03\n",
      " -1.40022961e-03 -1.15520853e-03 -9.32944126e-04 -9.55444350e-04\n",
      " -7.47905717e-04 -5.55249420e-04 -7.32903260e-04 -6.63527584e-04\n",
      " -6.86962044e-04 -5.01885666e-04 -3.04170033e-04 -4.17587078e-04\n",
      " -3.27868311e-04 -4.96919904e-04 -3.59162033e-04 -4.61438037e-04\n",
      " -4.23017944e-04 -1.96626055e-04 -5.22610014e-05 -2.43545032e-04\n",
      " -1.71969132e-04 -2.97769707e-04 -3.21374601e-04 -3.78493385e-04\n",
      " -8.42214977e-04 -9.16453134e-04 -1.37512529e-03 -1.14149068e-03\n",
      " -1.28098053e-03 -1.08493254e-03 -1.18199814e-03 -1.51408680e-03\n",
      " -1.34504777e-03 -1.79582130e-03 -1.75851392e-03 -1.44611856e-03\n",
      " -1.27893396e-03 -1.39039814e-03 -1.32816848e-03 -1.20698403e-03\n",
      " -1.48357565e-03 -1.34651055e-03 -1.44574947e-03 -1.35195961e-03\n",
      " -1.12178599e-03 -1.06916530e-03 -1.20741943e-03 -1.05437047e-03\n",
      " -7.85976698e-04 -7.76191899e-04 -4.96835980e-04 -2.86826399e-04\n",
      " -2.24661415e-04 -1.85343645e-04 -4.23301989e-05 -1.43474541e-04\n",
      " -2.32312809e-04 -2.28584671e-04 -2.53655424e-04 -2.88565174e-04\n",
      " -3.14419087e-04 -4.88624881e-04 -4.18767169e-04 -4.84813820e-04\n",
      " -4.90855583e-04 -4.47842833e-04 -6.26706231e-04 -8.08716420e-04\n",
      " -8.09813487e-04 -6.95420803e-04 -7.60209107e-04 -8.68178737e-04\n",
      " -8.05565534e-04 -6.46430931e-04 -3.99433467e-04 -3.94751833e-04\n",
      " -2.28338977e-04 -2.51710179e-04 -2.22789674e-04 -1.93307288e-04\n",
      " -5.73202968e-05 -4.36260157e-05 -3.48601417e-05 -4.64490562e-05\n",
      "  2.44317335e-05  1.08439888e-04  1.24295456e-04  6.09190956e-05\n",
      " -3.42692528e-05  1.03258744e-04  2.45049402e-04  2.66690606e-04\n",
      "  2.32933110e-04  3.08141800e-04  2.90326237e-04  2.82554017e-04\n",
      "  2.59701688e-04  1.67180983e-04  1.82002031e-04  2.16244177e-04\n",
      "  2.43711103e-04  2.71384241e-04  2.34212277e-04  2.40579632e-04\n",
      "  3.05956978e-04  3.84596080e-04  3.60819669e-04  3.86226930e-04\n",
      "  3.28735268e-04  2.91737565e-04  1.80821434e-04  2.45979753e-04\n",
      "  2.72987663e-04  3.64956940e-04  3.23177842e-04  3.03043244e-04\n",
      "  2.81847174e-04  4.29167301e-04  4.50835691e-04  5.13600888e-04\n",
      "  5.32289665e-04  5.01942789e-04  4.78331692e-04  4.49004346e-04\n",
      "  4.49789352e-04  4.59006946e-04  4.95032578e-04  4.82767543e-04\n",
      "  4.77543449e-04  4.95008047e-04  5.99565049e-04  5.01779909e-04\n",
      "  5.06462700e-04  5.10132909e-04  5.70562035e-04  6.21915583e-04\n",
      "  5.76152843e-04  6.27255848e-04  6.47376293e-04  6.09557507e-04\n",
      "  7.00797980e-04  6.94034871e-04  6.01309218e-04  6.18699372e-04\n",
      "  5.76676460e-04  5.03124396e-04  4.03081040e-04  4.46578718e-04\n",
      "  4.97975853e-04  5.25471516e-04  3.96045165e-04  4.01525632e-04\n",
      "  4.81741717e-04  5.91200258e-04  6.13563218e-04  5.86515206e-04\n",
      "  5.97302879e-04  6.23559695e-04  6.59998753e-04  6.28684540e-04\n",
      "  6.11068022e-04  5.84690810e-04  6.24328149e-04  6.03319678e-04\n",
      "  5.26369441e-04  3.12303385e-04  1.43374521e-04  7.74335863e-05\n",
      " -1.13794180e-04 -2.11069779e-04 -6.41132096e-05 -2.38565791e-04\n",
      " -1.22675454e-04 -3.70360550e-04 -4.79516676e-04 -1.02726177e-03\n",
      " -7.27820139e-04 -1.00750971e-03 -1.61449311e-03 -1.00802706e-03\n",
      " -1.66878305e-03 -1.49430965e-03 -1.88628427e-03 -1.68318914e-03\n",
      " -1.91247295e-03 -2.07050375e-03 -1.42689932e-03 -1.28720976e-03\n",
      " -9.78550194e-04 -1.17801410e-03 -1.16998345e-03 -1.27725509e-03\n",
      " -1.53161654e-03 -1.41858543e-03 -1.49930079e-03 -1.19101644e-03\n",
      " -1.06547820e-03 -8.75497692e-04 -7.02020007e-04 -8.29067293e-04\n",
      " -8.37828857e-04 -1.02429963e-03 -1.08259401e-03 -8.98530208e-04]\n",
      "[1 1 1 1 1 1 1 1 1 1 1 1 1 1 1 1 1 1 1 1 1 1 1 1 1 1 1 1 1 1 1 1 1 1 1 1 1\n",
      " 1 1 1 1 1 1 1 1 1 1 1 1 1 1 1 1 1 1 1 1 1 1 1 1 1 1 1 1 1 1 1 1 1 1 1 1 1\n",
      " 1 1 1 1 1 1 1 1 1 1 1 1 1 1 1 1 1 1 1 1 1 1 1 1 1 1 1 1 1 1 1 1 1 1 1 1 1\n",
      " 1 1 1 1 1 1 1 1 1 1 1 1 1 1 1 1 1 1 1 1 1 1 1 1 1 1 1 1 1 1 1 1 1 1 1 1 1\n",
      " 1 1 1 1 1 1 1 1 1 1 1 1 1 1 1 1 1 1 1 1 1 1 1 1 1 1 1 1 1 1 1 1 1 1 1 1 1\n",
      " 1 1 1 1 1 1 1 1 1 1 1 1 1 1 1 1 1 1 1 1 1 1 1 1 1 1 1 1 1 1 1 1 1 1 1 1 1\n",
      " 1 1 1 1 1 1 1 1 1 1 1 1 1 1 1 1 1 1 1 1 1 1 1 1 1 1 1 1 1 1]\n"
     ]
    }
   ],
   "source": [
    "#Portfolio 0.95 decay SD for VaR\n",
    "\n",
    "decay_mean_shift_a = np.zeros(252)\n",
    "decay_mean = np.zeros(252)\n",
    "decay_var = np.repeat(1,252)\n",
    "for i in range (len(portfolio_return)):\n",
    "    rollingreturn_shift = portfolio_return[0:i+1]\n",
    "    rollingreturn = portfolio_return[0:i]\n",
    "    decay_mean[i] = np.mean(rollingreturn)\n",
    "    decay_mean_shift_a[i] = np.mean(rollingreturn_shift)\n",
    "    decay_mean_shift = decay_mean_shift_a\n",
    "    #decay_var[i] = 0.95*decay_var[i-1]+(1-0.95)*(decay_mean_shift[i] - decay_mean[i])**2\n",
    "print(len(decay_mean))\n",
    "print(len(decay_mean_shift))\n",
    "print(len(decay_var))\n",
    "print(decay_mean)\n",
    "print(decay_mean_shift)\n",
    "print(decay_var)"
   ]
  },
  {
   "cell_type": "code",
   "execution_count": null,
   "metadata": {},
   "outputs": [],
   "source": []
  },
  {
   "cell_type": "code",
   "execution_count": null,
   "metadata": {},
   "outputs": [],
   "source": []
  },
  {
   "cell_type": "code",
   "execution_count": null,
   "metadata": {},
   "outputs": [],
   "source": []
  },
  {
   "cell_type": "code",
   "execution_count": null,
   "metadata": {},
   "outputs": [],
   "source": []
  },
  {
   "cell_type": "code",
   "execution_count": null,
   "metadata": {},
   "outputs": [],
   "source": []
  },
  {
   "cell_type": "code",
   "execution_count": null,
   "metadata": {},
   "outputs": [],
   "source": []
  },
  {
   "cell_type": "code",
   "execution_count": null,
   "metadata": {},
   "outputs": [],
   "source": []
  },
  {
   "cell_type": "code",
   "execution_count": null,
   "metadata": {},
   "outputs": [],
   "source": []
  },
  {
   "cell_type": "code",
   "execution_count": null,
   "metadata": {},
   "outputs": [],
   "source": []
  },
  {
   "cell_type": "code",
   "execution_count": null,
   "metadata": {},
   "outputs": [],
   "source": []
  },
  {
   "cell_type": "code",
   "execution_count": null,
   "metadata": {},
   "outputs": [],
   "source": []
  },
  {
   "cell_type": "code",
   "execution_count": null,
   "metadata": {},
   "outputs": [],
   "source": []
  },
  {
   "cell_type": "code",
   "execution_count": null,
   "metadata": {},
   "outputs": [],
   "source": []
  },
  {
   "cell_type": "code",
   "execution_count": null,
   "metadata": {},
   "outputs": [],
   "source": []
  },
  {
   "cell_type": "code",
   "execution_count": null,
   "metadata": {},
   "outputs": [],
   "source": []
  },
  {
   "cell_type": "code",
   "execution_count": null,
   "metadata": {},
   "outputs": [],
   "source": []
  },
  {
   "cell_type": "code",
   "execution_count": null,
   "metadata": {},
   "outputs": [],
   "source": []
  },
  {
   "cell_type": "code",
   "execution_count": null,
   "metadata": {},
   "outputs": [],
   "source": []
  },
  {
   "cell_type": "code",
   "execution_count": null,
   "metadata": {},
   "outputs": [],
   "source": []
  },
  {
   "cell_type": "code",
   "execution_count": null,
   "metadata": {},
   "outputs": [],
   "source": []
  },
  {
   "cell_type": "code",
   "execution_count": null,
   "metadata": {},
   "outputs": [],
   "source": []
  },
  {
   "cell_type": "code",
   "execution_count": null,
   "metadata": {},
   "outputs": [],
   "source": []
  },
  {
   "cell_type": "code",
   "execution_count": null,
   "metadata": {},
   "outputs": [],
   "source": []
  },
  {
   "cell_type": "code",
   "execution_count": null,
   "metadata": {},
   "outputs": [],
   "source": []
  },
  {
   "cell_type": "code",
   "execution_count": null,
   "metadata": {},
   "outputs": [],
   "source": []
  },
  {
   "cell_type": "code",
   "execution_count": null,
   "metadata": {},
   "outputs": [],
   "source": []
  },
  {
   "cell_type": "code",
   "execution_count": null,
   "metadata": {},
   "outputs": [],
   "source": []
  },
  {
   "cell_type": "code",
   "execution_count": null,
   "metadata": {},
   "outputs": [],
   "source": []
  },
  {
   "cell_type": "code",
   "execution_count": null,
   "metadata": {},
   "outputs": [],
   "source": []
  },
  {
   "cell_type": "code",
   "execution_count": null,
   "metadata": {},
   "outputs": [],
   "source": [
    "#Calculate 99% historical VaR for the portfolio\n",
    "portfolioVaRobservation = round(0.01 * len(portfolio_return))\n",
    "portfoliohistoricalVaR = sorted(portfolio_return)[portfolioVaRobservation]*100\n",
    "print('The 99% historical VaR is:',portfoliohistoricalVaR,'%')\n",
    "\n",
    "\n",
    "#Calculate 99% historical PnL VaR for the portfolio\n",
    "positionsize = 100000\n",
    "sharesize = positionsize/float(df1.iloc[0,5])\n",
    "historicalportfolioPnLVaR = sorted(finaldata['Daily Px Change'])[VaRobservation]*sharesize_d + sorted(finaldata2['Daily Px Change'])[VaRobservation]*sharesize_c\n",
    "print('The 95% historical portfolio PnL VaR is: $', historicalportfolioPnLVaR)\n",
    "\n",
    "#Calculate 95% Parametric PnL VaR for the portfolio\n"
   ]
  },
  {
   "cell_type": "code",
   "execution_count": null,
   "metadata": {},
   "outputs": [],
   "source": [
    "#Implement Factor Model VaR\n",
    "#Run principle component analysis and retrieve the first two factors\n",
    "#95% of the eigenvalues\n",
    "#Locate the 1% position \n",
    "\n",
    "import numpy as np\n",
    "from sklearn.decomposition import PCA\n",
    "from sklearn.datasets import make_classification\n",
    "\n",
    "\n",
    "X, y = make_classification(n_samples=1000)\n",
    "n_samples = X.shape[0]\n",
    "\n",
    "pca = PCA()\n",
    "X_transformed = pca.fit_transform(X)\n",
    "\n",
    "# We center the data and compute the sample covariance matrix.\n",
    "X_centered = X - np.mean(X, axis=0)\n",
    "cov_matrix = np.dot(X_centered.T, X_centered) / n_samples\n",
    "eigenvalues = pca.explained_variance_\n",
    "for eigenvalue, eigenvector in zip(eigenvalues, pca.components_):    \n",
    "    print(np.dot(eigenvector.T, np.dot(cov_matrix, eigenvector)))\n",
    "    print(eigenvalue)\n",
    "\n"
   ]
  },
  {
   "cell_type": "code",
   "execution_count": null,
   "metadata": {},
   "outputs": [],
   "source": []
  },
  {
   "cell_type": "code",
   "execution_count": 118,
   "metadata": {},
   "outputs": [
    {
     "name": "stdout",
     "output_type": "stream",
     "text": [
      "     Daily Return  Daily Return  Daily Return  Daily Return  Daily Return  \\\n",
      "1       -0.007349     -0.009572     -0.014712     -0.009666     -0.011765   \n",
      "2        0.001234     -0.006362     -0.005468     -0.008325     -0.002976   \n",
      "3        0.001232     -0.002248      0.001269      0.001592     -0.010448   \n",
      "4       -0.001670     -0.017635      0.000634     -0.005347     -0.004525   \n",
      "5        0.000528      0.004288     -0.001900     -0.001453      0.008333   \n",
      "..            ...           ...           ...           ...           ...   \n",
      "248     -0.044473     -0.027570     -0.036514     -0.015398     -0.024803   \n",
      "249     -0.027396     -0.005302      0.007074     -0.026992      0.009249   \n",
      "250     -0.049319      0.001627     -0.036628     -0.056363     -0.073310   \n",
      "251     -0.038110     -0.008290     -0.001042     -0.054596     -0.032138   \n",
      "252      0.061834      0.008953      0.000261      0.083045      0.047893   \n",
      "\n",
      "     Daily Return  Daily Return  Daily Return  Daily Return  Daily Return  \n",
      "1       -0.005251     -0.004445     -0.006835     -0.012415     -0.004346  \n",
      "2        0.000000     -0.012897     -0.021969     -0.005714      0.006601  \n",
      "3       -0.012821      0.010050      0.007848     -0.012644      0.014386  \n",
      "4        0.006112      0.007960      0.009399     -0.009313     -0.018874  \n",
      "5        0.009871     -0.000494      0.077414     -0.028202      0.029440  \n",
      "..            ...           ...           ...           ...           ...  \n",
      "248     -0.033831     -0.043754     -0.037602     -0.032787     -0.025366  \n",
      "249      0.019567      0.008118      0.020890     -0.006356     -0.028959  \n",
      "250     -0.050505     -0.057833     -0.040546     -0.076759     -0.034919  \n",
      "251     -0.022340     -0.020202      0.030411     -0.006928     -0.003325  \n",
      "252      0.045702      0.035289      0.066692      0.045349      0.057997  \n",
      "\n",
      "[252 rows x 10 columns]\n",
      "0      0.149177\n",
      "1      0.136660\n",
      "2      0.073722\n",
      "3      0.071865\n",
      "4      0.066347\n",
      "         ...   \n",
      "247   -0.063938\n",
      "248   -0.092040\n",
      "249   -0.123174\n",
      "250   -0.138793\n",
      "251   -0.152321\n",
      "Name: Weighted, Length: 252, dtype: float64\n",
      "EVT list is:\n",
      " 0     0.149177\n",
      "1     0.136660\n",
      "2     0.073722\n",
      "3     0.071865\n",
      "4     0.066347\n",
      "5     0.045670\n",
      "6     0.045301\n",
      "7     0.045232\n",
      "8     0.041973\n",
      "9     0.040220\n",
      "10    0.038460\n",
      "11    0.031972\n",
      "12    0.031540\n",
      "13    0.029734\n",
      "14    0.029566\n",
      "15    0.026880\n",
      "16    0.025822\n",
      "17    0.025373\n",
      "Name: Weighted, dtype: float64\n",
      "The value of u is:  0.02524293219930866\n",
      "The value of nu is:  18\n"
     ]
    }
   ],
   "source": [
    "#HW2 EVT, EWMA(GARCH), and MC for Parametric Portfolio VaR\n",
    "#EVT in VaR\n",
    "#Find values for u and nu\n",
    "port_SD = pVar(df1,df2,df3,df4,df5,df6,df7,df8,df9,df10)/2.326\n",
    "u = 1.645*port_SD\n",
    "order = portfolio_return.sort_values(ascending=False)\n",
    "order = order.reset_index(drop=True)\n",
    "print(order)   \n",
    "i=0\n",
    "while(order[i]>u):\n",
    "    i=i+1\n",
    "evt = order[0:i]\n",
    "print('EVT list is:\\n', evt)\n",
    "n = len(portfolio_return)\n",
    "a = 0.05\n",
    "nu = i\n",
    "print('The value of u is: ', u)\n",
    "print('The value of nu is: ', nu)\n",
    "\n"
   ]
  },
  {
   "cell_type": "code",
   "execution_count": null,
   "metadata": {},
   "outputs": [],
   "source": []
  },
  {
   "cell_type": "code",
   "execution_count": null,
   "metadata": {},
   "outputs": [],
   "source": []
  },
  {
   "cell_type": "code",
   "execution_count": null,
   "metadata": {},
   "outputs": [],
   "source": []
  },
  {
   "cell_type": "code",
   "execution_count": null,
   "metadata": {},
   "outputs": [],
   "source": []
  },
  {
   "cell_type": "code",
   "execution_count": null,
   "metadata": {},
   "outputs": [],
   "source": []
  },
  {
   "cell_type": "code",
   "execution_count": null,
   "metadata": {},
   "outputs": [],
   "source": []
  },
  {
   "cell_type": "code",
   "execution_count": 177,
   "metadata": {},
   "outputs": [
    {
     "ename": "ValueError",
     "evalue": "operands could not be broadcast together with shapes (18,) (2,) ",
     "output_type": "error",
     "traceback": [
      "\u001b[0;31m---------------------------------------------------------------------------\u001b[0m",
      "\u001b[0;31mValueError\u001b[0m                                Traceback (most recent call last)",
      "\u001b[0;32m<ipython-input-177-792e858c1246>\u001b[0m in \u001b[0;36m<module>\u001b[0;34m\u001b[0m\n\u001b[1;32m      7\u001b[0m     \u001b[0my\u001b[0m\u001b[0;34m=\u001b[0m\u001b[0;34m(\u001b[0m\u001b[0;36m1\u001b[0m\u001b[0;34m+\u001b[0m\u001b[0;34m(\u001b[0m\u001b[0mxi\u001b[0m\u001b[0;34m*\u001b[0m\u001b[0;34m(\u001b[0m\u001b[0mevt\u001b[0m\u001b[0;34m-\u001b[0m\u001b[0mu\u001b[0m\u001b[0;34m)\u001b[0m\u001b[0;34m/\u001b[0m\u001b[0mbeta\u001b[0m\u001b[0;34m)\u001b[0m\u001b[0;34m)\u001b[0m\u001b[0;34m**\u001b[0m\u001b[0;34m(\u001b[0m\u001b[0;34m-\u001b[0m\u001b[0;36m1\u001b[0m\u001b[0;34m/\u001b[0m\u001b[0;34m(\u001b[0m\u001b[0mxi\u001b[0m\u001b[0;34m)\u001b[0m\u001b[0;34m)\u001b[0m\u001b[0;34m\u001b[0m\u001b[0;34m\u001b[0m\u001b[0m\n\u001b[1;32m      8\u001b[0m     \u001b[0;32mreturn\u001b[0m\u001b[0;34m(\u001b[0m\u001b[0;34m-\u001b[0m\u001b[0;34m(\u001b[0m\u001b[0;36m1\u001b[0m\u001b[0;34m/\u001b[0m\u001b[0mbeta\u001b[0m\u001b[0;34m)\u001b[0m\u001b[0;34m*\u001b[0m\u001b[0msum\u001b[0m\u001b[0;34m(\u001b[0m\u001b[0mnp\u001b[0m\u001b[0;34m.\u001b[0m\u001b[0mlog\u001b[0m\u001b[0;34m(\u001b[0m\u001b[0my\u001b[0m\u001b[0;34m)\u001b[0m\u001b[0;34m)\u001b[0m\u001b[0;34m)\u001b[0m\u001b[0;34m\u001b[0m\u001b[0;34m\u001b[0m\u001b[0m\n\u001b[0;32m----> 9\u001b[0;31m \u001b[0mlik_model\u001b[0m \u001b[0;34m=\u001b[0m \u001b[0mminimize\u001b[0m\u001b[0;34m(\u001b[0m\u001b[0mlik\u001b[0m\u001b[0;34m,\u001b[0m\u001b[0;34m[\u001b[0m\u001b[0;36m1.5\u001b[0m\u001b[0;34m,\u001b[0m\u001b[0;36m1.5\u001b[0m\u001b[0;34m]\u001b[0m\u001b[0;34m,\u001b[0m \u001b[0margs\u001b[0m \u001b[0;34m=\u001b[0m\u001b[0;34m(\u001b[0m\u001b[0mxi\u001b[0m\u001b[0;34m)\u001b[0m\u001b[0;34m,\u001b[0m  \u001b[0mmethod\u001b[0m\u001b[0;34m=\u001b[0m\u001b[0;34m'SLSQP'\u001b[0m\u001b[0;34m)\u001b[0m\u001b[0;34m\u001b[0m\u001b[0;34m\u001b[0m\u001b[0m\n\u001b[0m\u001b[1;32m     10\u001b[0m \u001b[0mprint\u001b[0m\u001b[0;34m(\u001b[0m\u001b[0mlik_model\u001b[0m\u001b[0;34m)\u001b[0m\u001b[0;34m\u001b[0m\u001b[0;34m\u001b[0m\u001b[0m\n\u001b[1;32m     11\u001b[0m \u001b[0;34m\u001b[0m\u001b[0m\n",
      "\u001b[0;32m/anaconda3/lib/python3.7/site-packages/scipy/optimize/_minimize.py\u001b[0m in \u001b[0;36mminimize\u001b[0;34m(fun, x0, args, method, jac, hess, hessp, bounds, constraints, tol, callback, options)\u001b[0m\n\u001b[1;32m    616\u001b[0m     \u001b[0;32melif\u001b[0m \u001b[0mmeth\u001b[0m \u001b[0;34m==\u001b[0m \u001b[0;34m'slsqp'\u001b[0m\u001b[0;34m:\u001b[0m\u001b[0;34m\u001b[0m\u001b[0;34m\u001b[0m\u001b[0m\n\u001b[1;32m    617\u001b[0m         return _minimize_slsqp(fun, x0, args, jac, bounds,\n\u001b[0;32m--> 618\u001b[0;31m                                constraints, callback=callback, **options)\n\u001b[0m\u001b[1;32m    619\u001b[0m     \u001b[0;32melif\u001b[0m \u001b[0mmeth\u001b[0m \u001b[0;34m==\u001b[0m \u001b[0;34m'trust-constr'\u001b[0m\u001b[0;34m:\u001b[0m\u001b[0;34m\u001b[0m\u001b[0;34m\u001b[0m\u001b[0m\n\u001b[1;32m    620\u001b[0m         return _minimize_trustregion_constr(fun, x0, args, jac, hess, hessp,\n",
      "\u001b[0;32m/anaconda3/lib/python3.7/site-packages/scipy/optimize/slsqp.py\u001b[0m in \u001b[0;36m_minimize_slsqp\u001b[0;34m(func, x0, args, jac, bounds, constraints, maxiter, ftol, iprint, disp, eps, callback, **unknown_options)\u001b[0m\n\u001b[1;32m    397\u001b[0m \u001b[0;34m\u001b[0m\u001b[0m\n\u001b[1;32m    398\u001b[0m             \u001b[0;31m# Compute objective function\u001b[0m\u001b[0;34m\u001b[0m\u001b[0;34m\u001b[0m\u001b[0;34m\u001b[0m\u001b[0m\n\u001b[0;32m--> 399\u001b[0;31m             \u001b[0mfx\u001b[0m \u001b[0;34m=\u001b[0m \u001b[0mfunc\u001b[0m\u001b[0;34m(\u001b[0m\u001b[0mx\u001b[0m\u001b[0;34m)\u001b[0m\u001b[0;34m\u001b[0m\u001b[0;34m\u001b[0m\u001b[0m\n\u001b[0m\u001b[1;32m    400\u001b[0m             \u001b[0;32mtry\u001b[0m\u001b[0;34m:\u001b[0m\u001b[0;34m\u001b[0m\u001b[0;34m\u001b[0m\u001b[0m\n\u001b[1;32m    401\u001b[0m                 \u001b[0mfx\u001b[0m \u001b[0;34m=\u001b[0m \u001b[0mfloat\u001b[0m\u001b[0;34m(\u001b[0m\u001b[0mnp\u001b[0m\u001b[0;34m.\u001b[0m\u001b[0masarray\u001b[0m\u001b[0;34m(\u001b[0m\u001b[0mfx\u001b[0m\u001b[0;34m)\u001b[0m\u001b[0;34m)\u001b[0m\u001b[0;34m\u001b[0m\u001b[0;34m\u001b[0m\u001b[0m\n",
      "\u001b[0;32m/anaconda3/lib/python3.7/site-packages/scipy/optimize/optimize.py\u001b[0m in \u001b[0;36mfunction_wrapper\u001b[0;34m(*wrapper_args)\u001b[0m\n\u001b[1;32m    325\u001b[0m     \u001b[0;32mdef\u001b[0m \u001b[0mfunction_wrapper\u001b[0m\u001b[0;34m(\u001b[0m\u001b[0;34m*\u001b[0m\u001b[0mwrapper_args\u001b[0m\u001b[0;34m)\u001b[0m\u001b[0;34m:\u001b[0m\u001b[0;34m\u001b[0m\u001b[0;34m\u001b[0m\u001b[0m\n\u001b[1;32m    326\u001b[0m         \u001b[0mncalls\u001b[0m\u001b[0;34m[\u001b[0m\u001b[0;36m0\u001b[0m\u001b[0;34m]\u001b[0m \u001b[0;34m+=\u001b[0m \u001b[0;36m1\u001b[0m\u001b[0;34m\u001b[0m\u001b[0;34m\u001b[0m\u001b[0m\n\u001b[0;32m--> 327\u001b[0;31m         \u001b[0;32mreturn\u001b[0m \u001b[0mfunction\u001b[0m\u001b[0;34m(\u001b[0m\u001b[0;34m*\u001b[0m\u001b[0;34m(\u001b[0m\u001b[0mwrapper_args\u001b[0m \u001b[0;34m+\u001b[0m \u001b[0margs\u001b[0m\u001b[0;34m)\u001b[0m\u001b[0;34m)\u001b[0m\u001b[0;34m\u001b[0m\u001b[0;34m\u001b[0m\u001b[0m\n\u001b[0m\u001b[1;32m    328\u001b[0m \u001b[0;34m\u001b[0m\u001b[0m\n\u001b[1;32m    329\u001b[0m     \u001b[0;32mreturn\u001b[0m \u001b[0mncalls\u001b[0m\u001b[0;34m,\u001b[0m \u001b[0mfunction_wrapper\u001b[0m\u001b[0;34m\u001b[0m\u001b[0;34m\u001b[0m\u001b[0m\n",
      "\u001b[0;32m<ipython-input-177-792e858c1246>\u001b[0m in \u001b[0;36mlik\u001b[0;34m(beta, xi)\u001b[0m\n\u001b[1;32m      5\u001b[0m \u001b[0mbeta\u001b[0m \u001b[0;34m=\u001b[0m \u001b[0;36m0\u001b[0m\u001b[0;34m\u001b[0m\u001b[0;34m\u001b[0m\u001b[0m\n\u001b[1;32m      6\u001b[0m \u001b[0;32mdef\u001b[0m \u001b[0mlik\u001b[0m\u001b[0;34m(\u001b[0m\u001b[0mbeta\u001b[0m\u001b[0;34m,\u001b[0m \u001b[0mxi\u001b[0m\u001b[0;34m)\u001b[0m\u001b[0;34m:\u001b[0m\u001b[0;34m\u001b[0m\u001b[0;34m\u001b[0m\u001b[0m\n\u001b[0;32m----> 7\u001b[0;31m     \u001b[0my\u001b[0m\u001b[0;34m=\u001b[0m\u001b[0;34m(\u001b[0m\u001b[0;36m1\u001b[0m\u001b[0;34m+\u001b[0m\u001b[0;34m(\u001b[0m\u001b[0mxi\u001b[0m\u001b[0;34m*\u001b[0m\u001b[0;34m(\u001b[0m\u001b[0mevt\u001b[0m\u001b[0;34m-\u001b[0m\u001b[0mu\u001b[0m\u001b[0;34m)\u001b[0m\u001b[0;34m/\u001b[0m\u001b[0mbeta\u001b[0m\u001b[0;34m)\u001b[0m\u001b[0;34m)\u001b[0m\u001b[0;34m**\u001b[0m\u001b[0;34m(\u001b[0m\u001b[0;34m-\u001b[0m\u001b[0;36m1\u001b[0m\u001b[0;34m/\u001b[0m\u001b[0;34m(\u001b[0m\u001b[0mxi\u001b[0m\u001b[0;34m)\u001b[0m\u001b[0;34m)\u001b[0m\u001b[0;34m\u001b[0m\u001b[0;34m\u001b[0m\u001b[0m\n\u001b[0m\u001b[1;32m      8\u001b[0m     \u001b[0;32mreturn\u001b[0m\u001b[0;34m(\u001b[0m\u001b[0;34m-\u001b[0m\u001b[0;34m(\u001b[0m\u001b[0;36m1\u001b[0m\u001b[0;34m/\u001b[0m\u001b[0mbeta\u001b[0m\u001b[0;34m)\u001b[0m\u001b[0;34m*\u001b[0m\u001b[0msum\u001b[0m\u001b[0;34m(\u001b[0m\u001b[0mnp\u001b[0m\u001b[0;34m.\u001b[0m\u001b[0mlog\u001b[0m\u001b[0;34m(\u001b[0m\u001b[0my\u001b[0m\u001b[0;34m)\u001b[0m\u001b[0;34m)\u001b[0m\u001b[0;34m)\u001b[0m\u001b[0;34m\u001b[0m\u001b[0;34m\u001b[0m\u001b[0m\n\u001b[1;32m      9\u001b[0m \u001b[0mlik_model\u001b[0m \u001b[0;34m=\u001b[0m \u001b[0mminimize\u001b[0m\u001b[0;34m(\u001b[0m\u001b[0mlik\u001b[0m\u001b[0;34m,\u001b[0m\u001b[0;34m[\u001b[0m\u001b[0;36m1.5\u001b[0m\u001b[0;34m,\u001b[0m\u001b[0;36m1.5\u001b[0m\u001b[0;34m]\u001b[0m\u001b[0;34m,\u001b[0m \u001b[0margs\u001b[0m \u001b[0;34m=\u001b[0m\u001b[0;34m(\u001b[0m\u001b[0mxi\u001b[0m\u001b[0;34m)\u001b[0m\u001b[0;34m,\u001b[0m  \u001b[0mmethod\u001b[0m\u001b[0;34m=\u001b[0m\u001b[0;34m'SLSQP'\u001b[0m\u001b[0;34m)\u001b[0m\u001b[0;34m\u001b[0m\u001b[0;34m\u001b[0m\u001b[0m\n",
      "\u001b[0;32m/anaconda3/lib/python3.7/site-packages/pandas/core/ops/common.py\u001b[0m in \u001b[0;36mnew_method\u001b[0;34m(self, other)\u001b[0m\n\u001b[1;32m     62\u001b[0m         \u001b[0mother\u001b[0m \u001b[0;34m=\u001b[0m \u001b[0mitem_from_zerodim\u001b[0m\u001b[0;34m(\u001b[0m\u001b[0mother\u001b[0m\u001b[0;34m)\u001b[0m\u001b[0;34m\u001b[0m\u001b[0;34m\u001b[0m\u001b[0m\n\u001b[1;32m     63\u001b[0m \u001b[0;34m\u001b[0m\u001b[0m\n\u001b[0;32m---> 64\u001b[0;31m         \u001b[0;32mreturn\u001b[0m \u001b[0mmethod\u001b[0m\u001b[0;34m(\u001b[0m\u001b[0mself\u001b[0m\u001b[0;34m,\u001b[0m \u001b[0mother\u001b[0m\u001b[0;34m)\u001b[0m\u001b[0;34m\u001b[0m\u001b[0;34m\u001b[0m\u001b[0m\n\u001b[0m\u001b[1;32m     65\u001b[0m \u001b[0;34m\u001b[0m\u001b[0m\n\u001b[1;32m     66\u001b[0m     \u001b[0;32mreturn\u001b[0m \u001b[0mnew_method\u001b[0m\u001b[0;34m\u001b[0m\u001b[0;34m\u001b[0m\u001b[0m\n",
      "\u001b[0;32m/anaconda3/lib/python3.7/site-packages/pandas/core/ops/__init__.py\u001b[0m in \u001b[0;36mwrapper\u001b[0;34m(left, right)\u001b[0m\n\u001b[1;32m    501\u001b[0m         \u001b[0mlvalues\u001b[0m \u001b[0;34m=\u001b[0m \u001b[0mextract_array\u001b[0m\u001b[0;34m(\u001b[0m\u001b[0mleft\u001b[0m\u001b[0;34m,\u001b[0m \u001b[0mextract_numpy\u001b[0m\u001b[0;34m=\u001b[0m\u001b[0;32mTrue\u001b[0m\u001b[0;34m)\u001b[0m\u001b[0;34m\u001b[0m\u001b[0;34m\u001b[0m\u001b[0m\n\u001b[1;32m    502\u001b[0m         \u001b[0mrvalues\u001b[0m \u001b[0;34m=\u001b[0m \u001b[0mextract_array\u001b[0m\u001b[0;34m(\u001b[0m\u001b[0mright\u001b[0m\u001b[0;34m,\u001b[0m \u001b[0mextract_numpy\u001b[0m\u001b[0;34m=\u001b[0m\u001b[0;32mTrue\u001b[0m\u001b[0;34m)\u001b[0m\u001b[0;34m\u001b[0m\u001b[0;34m\u001b[0m\u001b[0m\n\u001b[0;32m--> 503\u001b[0;31m         \u001b[0mresult\u001b[0m \u001b[0;34m=\u001b[0m \u001b[0marithmetic_op\u001b[0m\u001b[0;34m(\u001b[0m\u001b[0mlvalues\u001b[0m\u001b[0;34m,\u001b[0m \u001b[0mrvalues\u001b[0m\u001b[0;34m,\u001b[0m \u001b[0mop\u001b[0m\u001b[0;34m,\u001b[0m \u001b[0mstr_rep\u001b[0m\u001b[0;34m)\u001b[0m\u001b[0;34m\u001b[0m\u001b[0;34m\u001b[0m\u001b[0m\n\u001b[0m\u001b[1;32m    504\u001b[0m \u001b[0;34m\u001b[0m\u001b[0m\n\u001b[1;32m    505\u001b[0m         \u001b[0;32mreturn\u001b[0m \u001b[0m_construct_result\u001b[0m\u001b[0;34m(\u001b[0m\u001b[0mleft\u001b[0m\u001b[0;34m,\u001b[0m \u001b[0mresult\u001b[0m\u001b[0;34m,\u001b[0m \u001b[0mindex\u001b[0m\u001b[0;34m=\u001b[0m\u001b[0mleft\u001b[0m\u001b[0;34m.\u001b[0m\u001b[0mindex\u001b[0m\u001b[0;34m,\u001b[0m \u001b[0mname\u001b[0m\u001b[0;34m=\u001b[0m\u001b[0mres_name\u001b[0m\u001b[0;34m)\u001b[0m\u001b[0;34m\u001b[0m\u001b[0;34m\u001b[0m\u001b[0m\n",
      "\u001b[0;32m/anaconda3/lib/python3.7/site-packages/pandas/core/ops/array_ops.py\u001b[0m in \u001b[0;36marithmetic_op\u001b[0;34m(left, right, op, str_rep)\u001b[0m\n\u001b[1;32m    195\u001b[0m     \u001b[0;32melse\u001b[0m\u001b[0;34m:\u001b[0m\u001b[0;34m\u001b[0m\u001b[0;34m\u001b[0m\u001b[0m\n\u001b[1;32m    196\u001b[0m         \u001b[0;32mwith\u001b[0m \u001b[0mnp\u001b[0m\u001b[0;34m.\u001b[0m\u001b[0merrstate\u001b[0m\u001b[0;34m(\u001b[0m\u001b[0mall\u001b[0m\u001b[0;34m=\u001b[0m\u001b[0;34m\"ignore\"\u001b[0m\u001b[0;34m)\u001b[0m\u001b[0;34m:\u001b[0m\u001b[0;34m\u001b[0m\u001b[0;34m\u001b[0m\u001b[0m\n\u001b[0;32m--> 197\u001b[0;31m             \u001b[0mres_values\u001b[0m \u001b[0;34m=\u001b[0m \u001b[0mna_arithmetic_op\u001b[0m\u001b[0;34m(\u001b[0m\u001b[0mlvalues\u001b[0m\u001b[0;34m,\u001b[0m \u001b[0mrvalues\u001b[0m\u001b[0;34m,\u001b[0m \u001b[0mop\u001b[0m\u001b[0;34m,\u001b[0m \u001b[0mstr_rep\u001b[0m\u001b[0;34m)\u001b[0m\u001b[0;34m\u001b[0m\u001b[0;34m\u001b[0m\u001b[0m\n\u001b[0m\u001b[1;32m    198\u001b[0m \u001b[0;34m\u001b[0m\u001b[0m\n\u001b[1;32m    199\u001b[0m     \u001b[0;32mreturn\u001b[0m \u001b[0mres_values\u001b[0m\u001b[0;34m\u001b[0m\u001b[0;34m\u001b[0m\u001b[0m\n",
      "\u001b[0;32m/anaconda3/lib/python3.7/site-packages/pandas/core/ops/array_ops.py\u001b[0m in \u001b[0;36mna_arithmetic_op\u001b[0;34m(left, right, op, str_rep)\u001b[0m\n\u001b[1;32m    147\u001b[0m \u001b[0;34m\u001b[0m\u001b[0m\n\u001b[1;32m    148\u001b[0m     \u001b[0;32mtry\u001b[0m\u001b[0;34m:\u001b[0m\u001b[0;34m\u001b[0m\u001b[0;34m\u001b[0m\u001b[0m\n\u001b[0;32m--> 149\u001b[0;31m         \u001b[0mresult\u001b[0m \u001b[0;34m=\u001b[0m \u001b[0mexpressions\u001b[0m\u001b[0;34m.\u001b[0m\u001b[0mevaluate\u001b[0m\u001b[0;34m(\u001b[0m\u001b[0mop\u001b[0m\u001b[0;34m,\u001b[0m \u001b[0mstr_rep\u001b[0m\u001b[0;34m,\u001b[0m \u001b[0mleft\u001b[0m\u001b[0;34m,\u001b[0m \u001b[0mright\u001b[0m\u001b[0;34m)\u001b[0m\u001b[0;34m\u001b[0m\u001b[0;34m\u001b[0m\u001b[0m\n\u001b[0m\u001b[1;32m    150\u001b[0m     \u001b[0;32mexcept\u001b[0m \u001b[0mTypeError\u001b[0m\u001b[0;34m:\u001b[0m\u001b[0;34m\u001b[0m\u001b[0;34m\u001b[0m\u001b[0m\n\u001b[1;32m    151\u001b[0m         \u001b[0mresult\u001b[0m \u001b[0;34m=\u001b[0m \u001b[0mmasked_arith_op\u001b[0m\u001b[0;34m(\u001b[0m\u001b[0mleft\u001b[0m\u001b[0;34m,\u001b[0m \u001b[0mright\u001b[0m\u001b[0;34m,\u001b[0m \u001b[0mop\u001b[0m\u001b[0;34m)\u001b[0m\u001b[0;34m\u001b[0m\u001b[0;34m\u001b[0m\u001b[0m\n",
      "\u001b[0;32m/anaconda3/lib/python3.7/site-packages/pandas/core/computation/expressions.py\u001b[0m in \u001b[0;36mevaluate\u001b[0;34m(op, op_str, a, b, use_numexpr)\u001b[0m\n\u001b[1;32m    206\u001b[0m     \u001b[0muse_numexpr\u001b[0m \u001b[0;34m=\u001b[0m \u001b[0muse_numexpr\u001b[0m \u001b[0;32mand\u001b[0m \u001b[0m_bool_arith_check\u001b[0m\u001b[0;34m(\u001b[0m\u001b[0mop_str\u001b[0m\u001b[0;34m,\u001b[0m \u001b[0ma\u001b[0m\u001b[0;34m,\u001b[0m \u001b[0mb\u001b[0m\u001b[0;34m)\u001b[0m\u001b[0;34m\u001b[0m\u001b[0;34m\u001b[0m\u001b[0m\n\u001b[1;32m    207\u001b[0m     \u001b[0;32mif\u001b[0m \u001b[0muse_numexpr\u001b[0m\u001b[0;34m:\u001b[0m\u001b[0;34m\u001b[0m\u001b[0;34m\u001b[0m\u001b[0m\n\u001b[0;32m--> 208\u001b[0;31m         \u001b[0;32mreturn\u001b[0m \u001b[0m_evaluate\u001b[0m\u001b[0;34m(\u001b[0m\u001b[0mop\u001b[0m\u001b[0;34m,\u001b[0m \u001b[0mop_str\u001b[0m\u001b[0;34m,\u001b[0m \u001b[0ma\u001b[0m\u001b[0;34m,\u001b[0m \u001b[0mb\u001b[0m\u001b[0;34m)\u001b[0m\u001b[0;34m\u001b[0m\u001b[0;34m\u001b[0m\u001b[0m\n\u001b[0m\u001b[1;32m    209\u001b[0m     \u001b[0;32mreturn\u001b[0m \u001b[0m_evaluate_standard\u001b[0m\u001b[0;34m(\u001b[0m\u001b[0mop\u001b[0m\u001b[0;34m,\u001b[0m \u001b[0mop_str\u001b[0m\u001b[0;34m,\u001b[0m \u001b[0ma\u001b[0m\u001b[0;34m,\u001b[0m \u001b[0mb\u001b[0m\u001b[0;34m)\u001b[0m\u001b[0;34m\u001b[0m\u001b[0;34m\u001b[0m\u001b[0m\n\u001b[1;32m    210\u001b[0m \u001b[0;34m\u001b[0m\u001b[0m\n",
      "\u001b[0;32m/anaconda3/lib/python3.7/site-packages/pandas/core/computation/expressions.py\u001b[0m in \u001b[0;36m_evaluate_numexpr\u001b[0;34m(op, op_str, a, b)\u001b[0m\n\u001b[1;32m    119\u001b[0m \u001b[0;34m\u001b[0m\u001b[0m\n\u001b[1;32m    120\u001b[0m     \u001b[0;32mif\u001b[0m \u001b[0mresult\u001b[0m \u001b[0;32mis\u001b[0m \u001b[0;32mNone\u001b[0m\u001b[0;34m:\u001b[0m\u001b[0;34m\u001b[0m\u001b[0;34m\u001b[0m\u001b[0m\n\u001b[0;32m--> 121\u001b[0;31m         \u001b[0mresult\u001b[0m \u001b[0;34m=\u001b[0m \u001b[0m_evaluate_standard\u001b[0m\u001b[0;34m(\u001b[0m\u001b[0mop\u001b[0m\u001b[0;34m,\u001b[0m \u001b[0mop_str\u001b[0m\u001b[0;34m,\u001b[0m \u001b[0ma\u001b[0m\u001b[0;34m,\u001b[0m \u001b[0mb\u001b[0m\u001b[0;34m)\u001b[0m\u001b[0;34m\u001b[0m\u001b[0;34m\u001b[0m\u001b[0m\n\u001b[0m\u001b[1;32m    122\u001b[0m \u001b[0;34m\u001b[0m\u001b[0m\n\u001b[1;32m    123\u001b[0m     \u001b[0;32mreturn\u001b[0m \u001b[0mresult\u001b[0m\u001b[0;34m\u001b[0m\u001b[0;34m\u001b[0m\u001b[0m\n",
      "\u001b[0;32m/anaconda3/lib/python3.7/site-packages/pandas/core/computation/expressions.py\u001b[0m in \u001b[0;36m_evaluate_standard\u001b[0;34m(op, op_str, a, b)\u001b[0m\n\u001b[1;32m     68\u001b[0m         \u001b[0m_store_test_result\u001b[0m\u001b[0;34m(\u001b[0m\u001b[0;32mFalse\u001b[0m\u001b[0;34m)\u001b[0m\u001b[0;34m\u001b[0m\u001b[0;34m\u001b[0m\u001b[0m\n\u001b[1;32m     69\u001b[0m     \u001b[0;32mwith\u001b[0m \u001b[0mnp\u001b[0m\u001b[0;34m.\u001b[0m\u001b[0merrstate\u001b[0m\u001b[0;34m(\u001b[0m\u001b[0mall\u001b[0m\u001b[0;34m=\u001b[0m\u001b[0;34m\"ignore\"\u001b[0m\u001b[0;34m)\u001b[0m\u001b[0;34m:\u001b[0m\u001b[0;34m\u001b[0m\u001b[0;34m\u001b[0m\u001b[0m\n\u001b[0;32m---> 70\u001b[0;31m         \u001b[0;32mreturn\u001b[0m \u001b[0mop\u001b[0m\u001b[0;34m(\u001b[0m\u001b[0ma\u001b[0m\u001b[0;34m,\u001b[0m \u001b[0mb\u001b[0m\u001b[0;34m)\u001b[0m\u001b[0;34m\u001b[0m\u001b[0;34m\u001b[0m\u001b[0m\n\u001b[0m\u001b[1;32m     71\u001b[0m \u001b[0;34m\u001b[0m\u001b[0m\n\u001b[1;32m     72\u001b[0m \u001b[0;34m\u001b[0m\u001b[0m\n",
      "\u001b[0;31mValueError\u001b[0m: operands could not be broadcast together with shapes (18,) (2,) "
     ]
    }
   ],
   "source": [
    "from scipy.optimize import minimize\n",
    "#Equation 10.9, p. 156\n",
    "#Estimate xi and beta\n",
    "xi = 0\n",
    "beta = 0\n",
    "def lik(beta, xi):\n",
    "    y=(1+(xi*(evt-u)/beta))**(-1/(xi))\n",
    "    return(-(1/beta)*sum(np.log(y)))\n",
    "lik_model = minimize(lik,[1.5,1.5], args =(xi),  method='SLSQP')\n",
    "print(lik_model)\n",
    "\n"
   ]
  },
  {
   "cell_type": "code",
   "execution_count": null,
   "metadata": {},
   "outputs": [],
   "source": []
  },
  {
   "cell_type": "code",
   "execution_count": null,
   "metadata": {},
   "outputs": [],
   "source": []
  },
  {
   "cell_type": "code",
   "execution_count": null,
   "metadata": {},
   "outputs": [],
   "source": []
  },
  {
   "cell_type": "code",
   "execution_count": null,
   "metadata": {},
   "outputs": [],
   "source": []
  },
  {
   "cell_type": "code",
   "execution_count": null,
   "metadata": {},
   "outputs": [],
   "source": []
  },
  {
   "cell_type": "code",
   "execution_count": null,
   "metadata": {},
   "outputs": [],
   "source": [
    "#Solve for u*\n",
    "ustar = u+(beta/xi)*(((n/nu)*(a))**(-xi)-1)\n",
    "print(ustar)\n",
    "\n",
    "#Simulate 1 day distribution\n",
    "pca=princomp(returns)\n",
    "eigvals\n",
    "explained=np.zeros(len(eigvals))\n",
    "for(i in range 1:len(eigvals))\n",
    "  explained[i]=eigvals[i]/sum(eigvals)\n",
    "\n",
    "#95% test\n",
    "n95=0\n",
    "e95=0\n",
    "while(esum95<0.95):\n",
    "    esum95=esum95+explained[n95+1]\n",
    "    n95=n95+1\n",
    "\n",
    "#6 factors required for 95%\n",
    "varcov<-cov(pca$loadings)\n",
    "facmean<-mean(pca$loadings)\n"
   ]
  },
  {
   "cell_type": "code",
   "execution_count": null,
   "metadata": {},
   "outputs": [],
   "source": [
    "#2 Days of Prices with EWMA\n",
    "#window = 60 or 3 months\n",
    "lambda=0.97\n",
    "n=2\n",
    "set.seed(-1000)\n",
    "errors=rnorm(1000, 0, 1)\n",
    "rets=np.zeros(len(n+1)\n",
    "prices=np.zeros(len(n+1)\n",
    "sigsq=np.zeros(len(n+1)\n",
    "eps=np.zeros(N=1)\n",
    "rets[1]=mean(portRet) #set to simulated mean\n",
    "prices[1]=1000000\n",
    "sigsq[1]=sd(portRet)**2 #set to simulated vol\n",
    "eps[1]=sqrt(sigsq)*errors[1]\n",
    "for(i in range 2:(n+1)):\n",
    "  sigsq[i]=lambda*sigsq[i-1]**2+(1-lambda)*rets[i-1]**2\n",
    "  eps[i]=np.sqrt(sigsq[i])*errors[i]\n",
    "  rets[i]=eps[i]+lambda*rets[i-1]+(1-lambda)*eps[i-1]\n",
    "  prices[i]=(1+rets[i])*prices[i-1])"
   ]
  },
  {
   "cell_type": "code",
   "execution_count": null,
   "metadata": {},
   "outputs": [],
   "source": []
  },
  {
   "cell_type": "code",
   "execution_count": null,
   "metadata": {},
   "outputs": [],
   "source": []
  },
  {
   "cell_type": "code",
   "execution_count": null,
   "metadata": {},
   "outputs": [],
   "source": []
  },
  {
   "cell_type": "code",
   "execution_count": null,
   "metadata": {},
   "outputs": [],
   "source": []
  },
  {
   "cell_type": "code",
   "execution_count": null,
   "metadata": {},
   "outputs": [],
   "source": []
  },
  {
   "cell_type": "code",
   "execution_count": null,
   "metadata": {},
   "outputs": [],
   "source": []
  },
  {
   "cell_type": "code",
   "execution_count": null,
   "metadata": {},
   "outputs": [],
   "source": []
  },
  {
   "cell_type": "code",
   "execution_count": null,
   "metadata": {},
   "outputs": [],
   "source": []
  },
  {
   "cell_type": "code",
   "execution_count": null,
   "metadata": {},
   "outputs": [],
   "source": []
  },
  {
   "cell_type": "code",
   "execution_count": null,
   "metadata": {},
   "outputs": [],
   "source": []
  },
  {
   "cell_type": "code",
   "execution_count": null,
   "metadata": {},
   "outputs": [],
   "source": []
  },
  {
   "cell_type": "code",
   "execution_count": null,
   "metadata": {},
   "outputs": [],
   "source": []
  },
  {
   "cell_type": "code",
   "execution_count": null,
   "metadata": {},
   "outputs": [],
   "source": []
  },
  {
   "cell_type": "code",
   "execution_count": null,
   "metadata": {},
   "outputs": [],
   "source": []
  },
  {
   "cell_type": "code",
   "execution_count": null,
   "metadata": {},
   "outputs": [],
   "source": []
  },
  {
   "cell_type": "code",
   "execution_count": null,
   "metadata": {},
   "outputs": [],
   "source": []
  },
  {
   "cell_type": "code",
   "execution_count": null,
   "metadata": {},
   "outputs": [],
   "source": []
  },
  {
   "cell_type": "code",
   "execution_count": null,
   "metadata": {},
   "outputs": [],
   "source": []
  },
  {
   "cell_type": "code",
   "execution_count": null,
   "metadata": {},
   "outputs": [],
   "source": []
  },
  {
   "cell_type": "code",
   "execution_count": null,
   "metadata": {},
   "outputs": [],
   "source": []
  },
  {
   "cell_type": "code",
   "execution_count": null,
   "metadata": {},
   "outputs": [],
   "source": []
  },
  {
   "cell_type": "code",
   "execution_count": null,
   "metadata": {},
   "outputs": [],
   "source": []
  },
  {
   "cell_type": "code",
   "execution_count": null,
   "metadata": {},
   "outputs": [],
   "source": []
  },
  {
   "cell_type": "code",
   "execution_count": null,
   "metadata": {},
   "outputs": [],
   "source": []
  },
  {
   "cell_type": "code",
   "execution_count": null,
   "metadata": {},
   "outputs": [],
   "source": []
  },
  {
   "cell_type": "code",
   "execution_count": null,
   "metadata": {},
   "outputs": [],
   "source": []
  },
  {
   "cell_type": "code",
   "execution_count": null,
   "metadata": {},
   "outputs": [],
   "source": []
  },
  {
   "cell_type": "code",
   "execution_count": null,
   "metadata": {},
   "outputs": [],
   "source": []
  },
  {
   "cell_type": "code",
   "execution_count": null,
   "metadata": {},
   "outputs": [],
   "source": []
  },
  {
   "cell_type": "code",
   "execution_count": null,
   "metadata": {},
   "outputs": [],
   "source": []
  },
  {
   "cell_type": "code",
   "execution_count": null,
   "metadata": {},
   "outputs": [],
   "source": []
  },
  {
   "cell_type": "code",
   "execution_count": null,
   "metadata": {},
   "outputs": [],
   "source": []
  },
  {
   "cell_type": "code",
   "execution_count": null,
   "metadata": {},
   "outputs": [],
   "source": []
  },
  {
   "cell_type": "code",
   "execution_count": null,
   "metadata": {},
   "outputs": [],
   "source": []
  },
  {
   "cell_type": "code",
   "execution_count": null,
   "metadata": {},
   "outputs": [],
   "source": []
  },
  {
   "cell_type": "code",
   "execution_count": null,
   "metadata": {},
   "outputs": [],
   "source": []
  },
  {
   "cell_type": "code",
   "execution_count": null,
   "metadata": {},
   "outputs": [],
   "source": []
  },
  {
   "cell_type": "code",
   "execution_count": null,
   "metadata": {},
   "outputs": [],
   "source": []
  },
  {
   "cell_type": "code",
   "execution_count": null,
   "metadata": {},
   "outputs": [],
   "source": []
  },
  {
   "cell_type": "code",
   "execution_count": null,
   "metadata": {},
   "outputs": [],
   "source": []
  },
  {
   "cell_type": "code",
   "execution_count": null,
   "metadata": {},
   "outputs": [],
   "source": []
  },
  {
   "cell_type": "code",
   "execution_count": null,
   "metadata": {},
   "outputs": [],
   "source": []
  },
  {
   "cell_type": "code",
   "execution_count": null,
   "metadata": {},
   "outputs": [],
   "source": []
  },
  {
   "cell_type": "code",
   "execution_count": null,
   "metadata": {},
   "outputs": [],
   "source": []
  },
  {
   "cell_type": "code",
   "execution_count": null,
   "metadata": {},
   "outputs": [],
   "source": []
  },
  {
   "cell_type": "code",
   "execution_count": null,
   "metadata": {},
   "outputs": [],
   "source": []
  },
  {
   "cell_type": "code",
   "execution_count": null,
   "metadata": {},
   "outputs": [],
   "source": []
  }
 ],
 "metadata": {
  "kernelspec": {
   "display_name": "Python 3",
   "language": "python",
   "name": "python3"
  },
  "language_info": {
   "codemirror_mode": {
    "name": "ipython",
    "version": 3
   },
   "file_extension": ".py",
   "mimetype": "text/x-python",
   "name": "python",
   "nbconvert_exporter": "python",
   "pygments_lexer": "ipython3",
   "version": "3.7.1"
  }
 },
 "nbformat": 4,
 "nbformat_minor": 2
}
